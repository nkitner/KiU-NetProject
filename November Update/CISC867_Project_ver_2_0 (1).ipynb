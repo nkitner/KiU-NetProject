{
  "cells": [
    {
      "cell_type": "code",
      "execution_count": null,
      "metadata": {
        "colab": {
          "base_uri": "https://localhost:8080/"
        },
        "id": "PGupVVHzPJZ3",
        "outputId": "4ee26d9a-9a50-427e-9254-fe9588b2ed85"
      },
      "outputs": [
        {
          "name": "stdout",
          "output_type": "stream",
          "text": [
            "Mounted at /content/drive\n"
          ]
        }
      ],
      "source": [
        "# need to add dataset to a folder in google drive\n",
        "from google.colab import drive\n",
        "drive.mount('/content/drive')"
      ]
    },
    {
      "cell_type": "code",
      "execution_count": null,
      "metadata": {
        "id": "jdYFlmYYLI53"
      },
      "outputs": [],
      "source": [
        "#%tensorflow_version 2.x"
      ]
    },
    {
      "cell_type": "code",
      "execution_count": 2,
      "metadata": {
        "colab": {
          "base_uri": "https://localhost:8080/"
        },
        "id": "OsFDj4jXiP63",
        "outputId": "7df3d92c-4e91-4453-b386-1c41aed5a7b7"
      },
      "outputs": [
        {
          "name": "stdout",
          "output_type": "stream",
          "text": [
            "Collecting SimpleITK\n",
            "  Downloading SimpleITK-2.1.1-cp39-cp39-win_amd64.whl (26.2 MB)\n",
            "Installing collected packages: SimpleITK\n",
            "Successfully installed SimpleITK-2.1.1\n",
            "Collecting tensorflow-addons\n",
            "  Downloading tensorflow_addons-0.14.0-cp39-cp39-win_amd64.whl (745 kB)\n",
            "Collecting typeguard>=2.7\n",
            "  Downloading typeguard-2.13.0-py3-none-any.whl (17 kB)\n",
            "Installing collected packages: typeguard, tensorflow-addons\n",
            "Successfully installed tensorflow-addons-0.14.0 typeguard-2.13.0\n"
          ]
        }
      ],
      "source": [
        "! pip install SimpleITK\n",
        "! pip install tensorflow-addons"
      ]
    },
    {
      "cell_type": "code",
      "execution_count": 3,
      "metadata": {
        "id": "avqiqXFzLqSB"
      },
      "outputs": [],
      "source": [
        "import tensorflow as tf\n",
        "import tensorflow_addons as tfa\n",
        "import os\n",
        "from PIL import Image\n",
        "import numpy as np\n",
        "from tensorflow import keras\n",
        "from tensorflow.keras import layers\n",
        "import SimpleITK as sitk\n",
        "import pickle\n",
        "from tensorflow import saved_model as sm"
      ]
    },
    {
      "cell_type": "code",
      "execution_count": null,
      "metadata": {
        "id": "5wdJRS7yLxYQ"
      },
      "outputs": [],
      "source": [
        "def import_data_numpy(path):\n",
        "    \"\"\"\n",
        "    Imports png images and returns as a list of tensors to be used in training\n",
        "    :param path: path to directory where images are\n",
        "    :return: list of Tensors\n",
        "    \"\"\"\n",
        "    tensor_list = []\n",
        "    for file in sorted(os.listdir(path)):\n",
        "        if file.endswith(\".png\") or file.endswith(\".tif\"):\n",
        "            # Converts to RGB because the vessel images are black and white\n",
        "            png_img = Image.open(os.path.join(path, file))\n",
        "            np_arr = normalize(np.array(png_img.getdata()).reshape((128, 128,3)))\n",
        "            # tensor = tf.convert_to_tensor(np_arr)\n",
        "            # Encodes images as tensors and adds to the list\n",
        "            tensor_list.append(np_arr)\n",
        "        # Returns list of tensors to be used in model\n",
        "    # tensor_list = np.asarray(tensor_list)\n",
        "    return np.asarray(tensor_list)\n"
      ]
    },
    {
      "cell_type": "code",
      "execution_count": null,
      "metadata": {
        "id": "n4OIF4oRhV7p"
      },
      "outputs": [],
      "source": [
        "def import_data_numpy_mask(path):\n",
        "    \"\"\"\n",
        "    Imports png images and returns as a list of tensors to be used in training\n",
        "    :param path: path to directory where images are\n",
        "    :return: list of Tensors\n",
        "    \"\"\"\n",
        "    tensor_list = []\n",
        "    for file in sorted(os.listdir(path)):\n",
        "        if file.endswith(\".png\") or file.endswith(\".tif\"):\n",
        "            # Converts to RGB because the vessel images are black and white\n",
        "            png_img = Image.open(os.path.join(path, file)).convert('L')\n",
        "            np_arr = normalize(np.array(png_img.getdata()).reshape((128, 128,1)))\n",
        "            # tensor = tf.convert_to_tensor(np_arr)\n",
        "            # Encodes images as tensors and adds to the list\n",
        "            tensor_list.append(np_arr)\n",
        "        # Returns list of tensors to be used in model\n",
        "    # tensor_list = np.asarray(tensor_list)\n",
        "    return np.asarray(tensor_list)"
      ]
    },
    {
      "cell_type": "code",
      "execution_count": null,
      "metadata": {
        "id": "0QM1-GX8cWx4"
      },
      "outputs": [],
      "source": [
        "def normalize(input_image):\n",
        "  max = np.max(input_image)\n",
        "  input_image = tf.cast(input_image, tf.float32) / max\n",
        "  return input_image"
      ]
    },
    {
      "cell_type": "code",
      "execution_count": null,
      "metadata": {
        "id": "m4JneY8RRaKS"
      },
      "outputs": [],
      "source": [
        "from keras import backend as K    #import backend for custom metric\n",
        "\n",
        "def recall_metric(y_true, y_pred):\n",
        "    true_positives = K.sum(K.round(K.clip(y_true * y_pred, 0, 1)))\n",
        "    possible_positives = K.sum(K.round(K.clip(y_true, 0, 1)))\n",
        "    recall = true_positives / (possible_positives + K.epsilon())\n",
        "    return recall\n",
        "\n",
        "def precision_metric(y_true, y_pred):\n",
        "    true_positives = K.sum(K.round(K.clip(y_true * y_pred, 0, 1)))\n",
        "    predicted_positives = K.sum(K.round(K.clip(y_pred, 0, 1)))\n",
        "    precision = true_positives / (predicted_positives + K.epsilon())\n",
        "    return precision\n",
        "\n",
        "def f1_metric(y_true, y_pred):\n",
        "    precision = precision_metric(y_true, y_pred)\n",
        "    recall = recall_metric(y_true, y_pred)\n",
        "    return 2*((precision*recall)/(precision+recall+K.epsilon()))"
      ]
    },
    {
      "cell_type": "code",
      "execution_count": null,
      "metadata": {
        "id": "HEtUmDg_Ny6D"
      },
      "outputs": [],
      "source": [
        "def _encoder_block_unet(input, num_filters):\n",
        "    \"\"\"\n",
        "    Encoder logic for U-Net\n",
        "    :param input: KerasTensor\n",
        "    :param num_filters: Int - number of output filters in convolution\n",
        "    :return: KerasTensor\n",
        "    \"\"\"\n",
        "    x = layers.Conv2D(num_filters, 3, padding=\"same\")(input)\n",
        "    x = layers.MaxPool2D((2, 2))(x)\n",
        "    x = layers.BatchNormalization()(x)\n",
        "    x = layers.Activation(\"relu\")(x)\n",
        "    return x\n",
        "\n",
        "\n",
        "def _encoder_block_kinet(input, num_filters):\n",
        "    \"\"\"\n",
        "    Encoder logic for Ki-Net\n",
        "    :param input: KerasTensor\n",
        "    :param num_filters: Int - number of output filters in convolution\n",
        "    :return: KerasTensor\n",
        "    \"\"\"\n",
        "    x = layers.Conv2D(num_filters, 3, padding=\"same\")(input)\n",
        "    x = layers.UpSampling2D(size=(2, 2), interpolation=\"bilinear\")(x)\n",
        "    x = layers.BatchNormalization()(x)\n",
        "    x = layers.Activation(\"relu\")(x)\n",
        "    p = layers.MaxPool2D((2, 2))(x)\n",
        "    return x\n",
        "\n",
        "\n",
        "def _decoder_block_unet(input, num_filters):\n",
        "    \"\"\"\n",
        "    Decoder logic for U-Net\n",
        "    :param input: KerasTensor\n",
        "    :param num_filters: Int - number of output filters in convolution\n",
        "    :return: KerasTensor\n",
        "    \"\"\"\n",
        "    x = layers.Conv2D(num_filters, 3, padding=\"same\")(input)\n",
        "    x = layers.UpSampling2D(size=(2, 2), interpolation=\"bilinear\")(x)\n",
        "    x = layers.BatchNormalization()(x)\n",
        "    x = layers.Activation(\"relu\")(x)\n",
        "    return x\n",
        "\n",
        "\n",
        "def _decoder_block_kinet(input, num_filters):\n",
        "    \"\"\"\n",
        "    Decoder logic for Ki-net\n",
        "    :param input: KerasTensor\n",
        "    :param num_filters: Int - number of output filters in convolution\n",
        "    :return: KerasTensor\n",
        "    \"\"\"\n",
        "    x = layers.Conv2D(num_filters, 3, padding=\"same\")(input)\n",
        "    x = layers.MaxPool2D((2, 2))(x)\n",
        "    x = layers.BatchNormalization()(x)\n",
        "    x = layers.Activation(\"relu\")(x)\n",
        "    print(type(x))\n",
        "    return x\n",
        "\n",
        "\n",
        "def _crfb(x1, x2, num_filters, scale_factor):\n",
        "    \"\"\"\n",
        "    CRFB is the cross residual fusion block which fuses the outputs at the specified layers\n",
        "    from one model to the other, and returns the results as input for the next step.\n",
        "    :param x1: KerasTensor\n",
        "    :param x2: KerasTensor\n",
        "    :param num_filters: Int - number of output filters in convolution\n",
        "    :param scale_factor: Float - scale factor for resizing (upsampling/downsampling) of output\n",
        "    :return: KerasTensor\n",
        "    \"\"\"\n",
        "    new_w = int(x2.shape[1] * scale_factor)\n",
        "    new_h = int(x2.shape[2] * scale_factor)\n",
        "    out = layers.Conv2D(num_filters, 3, padding=\"same\")(x2)\n",
        "    out = layers.Activation(\"relu\")(out)\n",
        "    out = tf.image.resize(out, [new_h, new_w])\n",
        "    output = layers.Add()([x1, out])\n",
        "    return output"
      ]
    },
    {
      "cell_type": "code",
      "execution_count": null,
      "metadata": {
        "id": "_-7_4NREN89T"
      },
      "outputs": [],
      "source": [
        "def kiunet(input_shape, num_classes):\n",
        "    \"\"\"\n",
        "    Architecture of the KiU-Net model, which combines the Ki-Net and U-Net architecture\n",
        "    :param input_shape: Tuple of the shape of the input\n",
        "    :return: keras.Model\n",
        "    \"\"\"\n",
        "    inputs = layers.Input(shape=input_shape)\n",
        "\n",
        "    # ENCODER BLOCK #\n",
        "\n",
        "    s1 = _encoder_block_unet(inputs, 16)  # U NET ENCODER\n",
        "    k1 = _encoder_block_kinet(inputs, 16)  # KINET ENCODER\n",
        "    \n",
        "    u1 = _crfb(s1, k1, 16, 0.25)  # CRFB U1 UNET\n",
        "    o1 = _crfb(k1, s1, 16, 4)  # CRFB O1 KINET\n",
        "    \n",
        "    s2 = _encoder_block_unet(u1, 32)  # UNET ENCODER\n",
        "    k2 = _encoder_block_kinet(o1, 32)  # KINET ENCODER\n",
        "    \n",
        "    u2 = _crfb(s2, k2, 32, 0.0625)  # CRFB U2 UNET\n",
        "    o2 = _crfb(k2, s2, 32, 16)  # CRFB O2 KINET\n",
        "    \n",
        "\n",
        "    s3 = _encoder_block_unet(u2, 64)  # UNET ENCODER\n",
        "    k3 = _encoder_block_kinet(o2, 64)  # KINET ENCODER\n",
        "    \n",
        "\n",
        "    u3 = _crfb(s3, k3, 64, 0.015625)  # CRFB U3 UNET\n",
        "    o3 = _crfb(k3, s2, 64, 32)  # CRFB O3 KINET\n",
        "    \n",
        "\n",
        "    # DECODER BLOCK #\n",
        "\n",
        "    d1_u = _decoder_block_unet(u3, 32)  # UNET DECODER\n",
        "    d1_k = _decoder_block_kinet(o3, 32)  # KINET DECODER\n",
        "    \n",
        "\n",
        "    d_u1 = _crfb(d1_u, d1_k, 32, 0.0625)  # CRFB D_U1 UNET\n",
        "    \n",
        "    d_o1 = _crfb(d1_k, d1_u, 32, 16)  # CRFB D_O1 KINET\n",
        "    \n",
        "\n",
        "    out = layers.Add()([d_u1, s2])  # CONCATENTATION D_U1 & S2 UNET\n",
        "    out1 = layers.Add()([d_o1, k2])  # CONCATENTATION D_O1 & K2 KINET\n",
        "    \n",
        "\n",
        "    d2_u = _decoder_block_unet(out, 16)  # UNET DECODER\n",
        "    d2_k = _decoder_block_kinet(out1, 16)  # KINET DECODER\n",
        "   \n",
        "\n",
        "    d_u2 = _crfb(d2_u, d2_k, 16, 0.25)  # CRFB D_U2 UNET\n",
        "    d_o2 = _crfb(d2_k, d2_u, 16, 4)  # CRFB D_O2 KINET\n",
        "    \n",
        "\n",
        "    out = layers.Add()([d_u2, s1])  # CONCATENATION D_U2 & S1 UNET\n",
        "    out1 = layers.Add()([d_o2, k1])  # CONCATENATION D_O2 & K2 KINET\n",
        "    \n",
        "\n",
        "    d3_u = _decoder_block_unet(out, 8)  # UNET DECODER\n",
        "    d3_k = _decoder_block_kinet(out1, 8)  # KINET DECODER\n",
        "    \n",
        "\n",
        "    out = layers.Add()([d3_u, d3_k])  # FINAL CONCATENATION OUTPUT FROM UNET AND KINET\n",
        "\n",
        "    out = layers.Conv2D(num_classes, 1, padding=\"valid\", activation=\"relu\")(out)  # FINAL CONVOLUTIONAL LAYER\n",
        "    kiunet_model = keras.Model(inputs, out, name=\"KiU-Net\")  # MODEL\n",
        "\n",
        "    return kiunet_model"
      ]
    },
    {
      "cell_type": "code",
      "execution_count": null,
      "metadata": {
        "id": "RWEKHdKoUQQ0"
      },
      "outputs": [],
      "source": [
        "def unet_from_code(input_shape, num_classes):\n",
        "    \"\"\"\n",
        "    Architecture of the U-Net model\n",
        "    :param input_shape: Tuple of the shape of the input\n",
        "    :return: keras.Model\n",
        "    \"\"\"\n",
        "    inputs = layers.Input(shape=input_shape)\n",
        "    print(input_shape)\n",
        "    # ENCODER BLOCK #\n",
        "\n",
        "    s1 = _encoder_block_unet(inputs, 32)  # U NET ENCODER\n",
        "    s2 = _encoder_block_unet(s1, 64)  # UNET ENCODER\n",
        "    s3 = _encoder_block_unet(s2, 128)  # UNET ENCODER\n",
        "    s4 = _encoder_block_unet(s3, 256)  # UNET ENCODER\n",
        "    out = _encoder_block_unet(s4, 512)  # UNET ENCODER\n",
        "\n",
        "    # DECODER BLOCK #\n",
        "\n",
        "    out = _decoder_block_unet(out, 256)\n",
        "    out = layers.Add()([out, s4])\n",
        "    out = _decoder_block_unet(out, 128)\n",
        "    out = layers.Add()([out, s3])\n",
        "    out = _decoder_block_unet(out, 64)  # UNET DECODER\n",
        "    out = layers.Add()([out, s2])  # CONCATENTATION D_U1 & S2 UNET\n",
        "    out = _decoder_block_unet(out, 32)  # UNET DECODER\n",
        "    out = layers.Add()([out, s1])  # CONCATENATION D_U2 & S1 UNET\n",
        "    out = _decoder_block_unet(out, num_classes)  # UNET DECODER\n",
        "    unet_model = tf.keras.Model(inputs, out, name=\"U-Net\")  # MODEL\n",
        "\n",
        "    return unet_model"
      ]
    },
    {
      "cell_type": "code",
      "execution_count": null,
      "metadata": {
        "id": "3xB7iaKPOrus"
      },
      "outputs": [],
      "source": [
        "x_train = import_data_numpy(\"drive/MyDrive/data/resized/train/img\")\n",
        "y_train = import_data_numpy_mask(\"drive/MyDrive/data/resized/train/labelcol\")\n",
        "x_test = import_data_numpy(\"drive/MyDrive/data/resized/test/img\")\n",
        "y_test = import_data_numpy_mask(\"drive/MyDrive/data/resized/test/labelcol\")"
      ]
    },
    {
      "cell_type": "code",
      "execution_count": null,
      "metadata": {
        "id": "Y3tmTfUElwo0"
      },
      "outputs": [],
      "source": [
        "y_train_binary = np.copy(y_train)\n",
        "y_test_binary = np.copy(y_test)\n",
        "\n",
        "for i in range(len(y_train)):\n",
        "  y_train_binary[i][y_train_binary[i] > 0] = 1  \n",
        "  y_test_binary[i][y_test_binary[i] > 0] = 1 "
      ]
    },
    {
      "cell_type": "code",
      "execution_count": null,
      "metadata": {
        "id": "kEIc636areq0"
      },
      "outputs": [],
      "source": [
        "y_onehot_train = keras.utils.to_categorical(y_train_binary, 2)\n",
        "y_onehot_test = keras.utils.to_categorical(y_test_binary, 2)"
      ]
    },
    {
      "cell_type": "code",
      "execution_count": null,
      "metadata": {
        "colab": {
          "base_uri": "https://localhost:8080/"
        },
        "id": "j7OGcPpcQG4q",
        "outputId": "e4a6f707-76ee-477f-8ddc-3d85c9dfab32"
      },
      "outputs": [
        {
          "name": "stdout",
          "output_type": "stream",
          "text": [
            "<class 'keras.engine.keras_tensor.KerasTensor'>\n",
            "<class 'keras.engine.keras_tensor.KerasTensor'>\n",
            "<class 'keras.engine.keras_tensor.KerasTensor'>\n"
          ]
        }
      ],
      "source": [
        "kiunet_model_a1 = kiunet((128,128,3), 2)\n",
        "m = tf.keras.metrics.MeanIoU(num_classes=256)\n",
        "# Save the model structure\n",
        "# kiunet_model.save('kiUnet_structure')\n",
        "\n",
        "kiunet_model_a1.compile(\n",
        "    optimizer=keras.optimizers.Adam(learning_rate=0.001),    ## learning_rate is different from 3D\n",
        "    loss=tf.keras.losses.BinaryCrossentropy(),  ##maybe categorical_crossentropy if labels one-hot encoded\n",
        "    metrics=[keras.metrics.Accuracy()])#check metric, should be 4 classes"
      ]
    },
    {
      "cell_type": "code",
      "execution_count": null,
      "metadata": {
        "colab": {
          "base_uri": "https://localhost:8080/"
        },
        "id": "fuy_vXVcu1lP",
        "outputId": "fedefbbb-ee55-4770-ea6d-9689930e7c19"
      },
      "outputs": [
        {
          "name": "stdout",
          "output_type": "stream",
          "text": [
            "(128, 128, 3)\n"
          ]
        }
      ],
      "source": [
        "unet_model_onehot = unet_from_code((128,128,3), 2)\n",
        "m = tf.keras.metrics.MeanIoU(num_classes=256)\n",
        "# Save the model structure\n",
        "# unet_model.save('unet_structure')\n",
        "\n",
        "unet_model_onehot.compile(\n",
        "    optimizer=keras.optimizers.Adam(learning_rate=0.001),    ## learning_rate is different from 3D\n",
        "    loss=tf.keras.losses.BinaryCrossentropy(),  ##maybe categorical_crossentropy if labels one-hot encoded\n",
        "    metrics=[keras.metrics.Accuracy()])#check metric, should be 4 classes"
      ]
    },
    {
      "cell_type": "code",
      "execution_count": null,
      "metadata": {
        "colab": {
          "base_uri": "https://localhost:8080/",
          "height": 145
        },
        "id": "UjB5Kfj4uGZ9",
        "outputId": "f1a130b8-4977-4b14-ae78-70e174d7dded"
      },
      "outputs": [
        {
          "data": {
            "image/png": "[encoded data removed]",
            "text/plain": [
              "<PIL.Image.Image image mode=RGB size=128x128 at 0x7F5DEE98DB10>"
            ]
          },
          "execution_count": 275,
          "metadata": {},
          "output_type": "execute_result"
        }
      ],
      "source": [
        "b=tf.keras.utils.array_to_img(x_test[0])\n",
        "b"
      ]
    },
    {
      "cell_type": "code",
      "execution_count": null,
      "metadata": {
        "colab": {
          "base_uri": "https://localhost:8080/",
          "height": 145
        },
        "id": "Ib7pg4o9uLLW",
        "outputId": "ad219bdb-6445-4578-b65f-a6227d32c7c7"
      },
      "outputs": [
        {
          "data": {
            "image/png": "[encoded data removed]",
            "text/plain": [
              "<PIL.Image.Image image mode=L size=128x128 at 0x7F5C67EA9DD0>"
            ]
          },
          "execution_count": 276,
          "metadata": {},
          "output_type": "execute_result"
        }
      ],
      "source": [
        "test_pred = y_test_binary[0]\n",
        "# new_pred = np.reshape(test_pred, (128,128,1,2))\n",
        "b=tf.keras.utils.array_to_img(test_pred)\n",
        "b"
      ]
    },
    {
      "cell_type": "code",
      "execution_count": null,
      "metadata": {
        "colab": {
          "base_uri": "https://localhost:8080/",
          "height": 145
        },
        "id": "AhPinTjH0wlF",
        "outputId": "d3689242-bee1-4743-ebeb-6872a9799ba0"
      },
      "outputs": [
        {
          "data": {
            "image/png": "[encoded data removed]",
            "text/plain": [
              "<PIL.Image.Image image mode=L size=128x128 at 0x7F5C67EA90D0>"
            ]
          },
          "execution_count": 277,
          "metadata": {},
          "output_type": "execute_result"
        }
      ],
      "source": [
        "test_pred = y_test[0]\n",
        "# new_pred = np.reshape(test_pred, (128,128,1,2))\n",
        "b=tf.keras.utils.array_to_img(test_pred)\n",
        "b"
      ]
    },
    {
      "cell_type": "code",
      "execution_count": null,
      "metadata": {
        "colab": {
          "base_uri": "https://localhost:8080/",
          "height": 145
        },
        "id": "x2xkhir-t2gj",
        "outputId": "03217867-b7fd-4911-86aa-b7f2d2f0cf0b"
      },
      "outputs": [
        {
          "data": {
            "image/png": "[encoded data removed]",
            "text/plain": [
              "<PIL.Image.Image image mode=L size=128x128 at 0x7F5E5E0DAC50>"
            ]
          },
          "execution_count": 300,
          "metadata": {},
          "output_type": "execute_result"
        }
      ],
      "source": [
        "test_pred = unet_model_onehot.predict(x_test[0][tf.newaxis, ...])\n",
        "test_pred = np.reshape(test_pred,(128,128,1,2))\n",
        "b=tf.keras.utils.array_to_img(test_pred[:,:,:,1])\n",
        "b"
      ]
    },
    {
      "cell_type": "code",
      "execution_count": null,
      "metadata": {
        "colab": {
          "base_uri": "https://localhost:8080/",
          "height": 145
        },
        "id": "B7tQKeEfsBWZ",
        "outputId": "99721660-68e8-42d0-b0ba-4d386064c1dc"
      },
      "outputs": [
        {
          "data": {
            "image/png": "[encoded data removed]",
            "text/plain": [
              "<PIL.Image.Image image mode=L size=128x128 at 0x7F5C67AE3AD0>"
            ]
          },
          "execution_count": 295,
          "metadata": {},
          "output_type": "execute_result"
        }
      ],
      "source": [
        "test_pred = unet_model_onehot.predict(x_test[0][tf.newaxis, ...])\n",
        "test_pred = np.reshape(test_pred,(128,128,1,2))\n",
        "y_classes = test_pred.argmax(axis=-1)\n",
        "y_classes = np.reshape(y_classes,(128,128,1))\n",
        "b=tf.keras.utils.array_to_img(y_classes)\n",
        "b"
      ]
    },
    {
      "cell_type": "code",
      "execution_count": null,
      "metadata": {
        "colab": {
          "base_uri": "https://localhost:8080/",
          "height": 145
        },
        "id": "LMxNuHx6wUAi",
        "outputId": "d4000391-e377-4bd5-a051-fc5276d67101"
      },
      "outputs": [
        {
          "data": {
            "image/png": "[encoded data removed]",
            "text/plain": [
              "<PIL.Image.Image image mode=L size=128x128 at 0x7F5ECE4B9910>"
            ]
          },
          "execution_count": 296,
          "metadata": {},
          "output_type": "execute_result"
        }
      ],
      "source": [
        "test_pred = kiunet_model_a1.predict(x_test[0][tf.newaxis, ...])\n",
        "test_pred = np.reshape(test_pred,(128,128,1,2))\n",
        "b=tf.keras.utils.array_to_img(test_pred[:,:,:,1])\n",
        "b"
      ]
    },
    {
      "cell_type": "code",
      "execution_count": null,
      "metadata": {
        "colab": {
          "base_uri": "https://localhost:8080/",
          "height": 145
        },
        "id": "3xcBBVJ5whqA",
        "outputId": "88f04482-5706-48f1-d135-7d73bf73dae4"
      },
      "outputs": [
        {
          "data": {
            "image/png": "[encoded data removed]",
            "text/plain": [
              "<PIL.Image.Image image mode=L size=128x128 at 0x7F5ECE349450>"
            ]
          },
          "execution_count": 298,
          "metadata": {},
          "output_type": "execute_result"
        }
      ],
      "source": [
        "test_pred = kiunet_model_a1.predict(x_test[0][tf.newaxis, ...])\n",
        "test_pred = np.reshape(test_pred,(128,128,1,2))\n",
        "y_classes = test_pred.argmax(axis=-1)\n",
        "y_classes = np.reshape(y_classes,(128,128,1))\n",
        "b=tf.keras.utils.array_to_img(y_classes)\n",
        "b"
      ]
    },
    {
      "cell_type": "code",
      "execution_count": null,
      "metadata": {
        "colab": {
          "base_uri": "https://localhost:8080/"
        },
        "id": "WFpWoivYvDLY",
        "outputId": "d2f5b774-b2c3-41a1-a80e-989f3897d59a"
      },
      "outputs": [
        {
          "name": "stderr",
          "output_type": "stream",
          "text": [
            "/usr/local/lib/python3.7/dist-packages/keras/utils/generic_utils.py:497: CustomMaskWarning: Custom mask layers require a config and must override get_config. When loading, the custom mask layer must be passed to the custom_objects argument.\n",
            "  category=CustomMaskWarning)\n"
          ]
        },
        {
          "name": "stdout",
          "output_type": "stream",
          "text": [
            "Epoch 1/300\n",
            "20/20 [==============================] - 3s 70ms/step - loss: 2.3919 - accuracy: 0.2514 - val_loss: 3.6835 - val_accuracy: 0.1531\n",
            "Epoch 2/300\n",
            "20/20 [==============================] - 1s 27ms/step - loss: 1.5536 - accuracy: 0.2152 - val_loss: 2.6562 - val_accuracy: 0.1185\n",
            "Epoch 3/300\n",
            "20/20 [==============================] - 0s 14ms/step - loss: 1.2787 - accuracy: 0.2029 - val_loss: 1.3521 - val_accuracy: 0.0415\n",
            "Epoch 4/300\n",
            "20/20 [==============================] - 0s 18ms/step - loss: 1.1576 - accuracy: 0.1914 - val_loss: 0.6835 - val_accuracy: 0.0000e+00\n",
            "Epoch 5/300\n",
            "20/20 [==============================] - 0s 18ms/step - loss: 1.0655 - accuracy: 0.1821 - val_loss: 0.6564 - val_accuracy: 0.0000e+00\n",
            "Epoch 6/300\n",
            "20/20 [==============================] - 0s 17ms/step - loss: 1.0169 - accuracy: 0.1825 - val_loss: 0.6448 - val_accuracy: 0.0000e+00\n",
            "Epoch 7/300\n",
            "20/20 [==============================] - 0s 22ms/step - loss: 1.0019 - accuracy: 0.1793 - val_loss: 0.6562 - val_accuracy: 0.0000e+00\n",
            "Epoch 8/300\n",
            "20/20 [==============================] - 0s 13ms/step - loss: 0.9413 - accuracy: 0.1749 - val_loss: 0.6214 - val_accuracy: 0.0000e+00\n",
            "Epoch 9/300\n",
            "20/20 [==============================] - 0s 18ms/step - loss: 0.9266 - accuracy: 0.1711 - val_loss: 0.6368 - val_accuracy: 0.0000e+00\n",
            "Epoch 10/300\n",
            "20/20 [==============================] - 0s 14ms/step - loss: 0.9083 - accuracy: 0.1595 - val_loss: 0.6360 - val_accuracy: 0.0000e+00\n",
            "Epoch 11/300\n",
            "20/20 [==============================] - 0s 18ms/step - loss: 0.8699 - accuracy: 0.1669 - val_loss: 0.6149 - val_accuracy: 0.0000e+00\n",
            "Epoch 12/300\n",
            "20/20 [==============================] - 0s 18ms/step - loss: 0.8242 - accuracy: 0.1681 - val_loss: 0.6015 - val_accuracy: 0.0000e+00\n",
            "Epoch 13/300\n",
            "20/20 [==============================] - 0s 26ms/step - loss: 0.7890 - accuracy: 0.1620 - val_loss: 0.5911 - val_accuracy: 0.0000e+00\n",
            "Epoch 14/300\n",
            "20/20 [==============================] - 0s 14ms/step - loss: 1.3200 - accuracy: 0.1773 - val_loss: 8.9082 - val_accuracy: 0.1918\n",
            "Epoch 15/300\n",
            "20/20 [==============================] - 0s 18ms/step - loss: 1.2501 - accuracy: 0.1935 - val_loss: 6.4714 - val_accuracy: 0.3983\n",
            "Epoch 16/300\n",
            "20/20 [==============================] - 0s 14ms/step - loss: 1.0744 - accuracy: 0.1863 - val_loss: 2.6863 - val_accuracy: 0.2120\n",
            "Epoch 17/300\n",
            "20/20 [==============================] - 0s 17ms/step - loss: 0.9550 - accuracy: 0.1813 - val_loss: 1.3255 - val_accuracy: 0.1734\n",
            "Epoch 18/300\n",
            "20/20 [==============================] - 0s 14ms/step - loss: 0.8924 - accuracy: 0.1810 - val_loss: 0.8347 - val_accuracy: 0.1480\n",
            "Epoch 19/300\n",
            "20/20 [==============================] - 0s 17ms/step - loss: 1.0956 - accuracy: 0.1848 - val_loss: 1.0566 - val_accuracy: 0.1474\n",
            "Epoch 20/300\n",
            "20/20 [==============================] - 0s 24ms/step - loss: 1.0679 - accuracy: 0.1782 - val_loss: 0.8624 - val_accuracy: 0.1495\n",
            "Epoch 21/300\n",
            "20/20 [==============================] - 0s 14ms/step - loss: 1.2777 - accuracy: 0.1696 - val_loss: 3.0314 - val_accuracy: 0.1613\n",
            "Epoch 22/300\n",
            "20/20 [==============================] - 0s 17ms/step - loss: 1.4650 - accuracy: 0.1555 - val_loss: 4.6226 - val_accuracy: 0.2447\n",
            "Epoch 23/300\n",
            "20/20 [==============================] - 0s 19ms/step - loss: 1.1590 - accuracy: 0.1562 - val_loss: 1.5720 - val_accuracy: 0.1697\n",
            "Epoch 24/300\n",
            "20/20 [==============================] - 1s 47ms/step - loss: 0.9799 - accuracy: 0.1567 - val_loss: 1.0124 - val_accuracy: 0.1613\n",
            "Epoch 25/300\n",
            "20/20 [==============================] - 0s 15ms/step - loss: 0.9192 - accuracy: 0.1559 - val_loss: 0.9662 - val_accuracy: 0.1447\n",
            "Epoch 26/300\n",
            "20/20 [==============================] - 0s 14ms/step - loss: 0.9649 - accuracy: 0.1565 - val_loss: 1.0566 - val_accuracy: 0.1552\n",
            "Epoch 27/300\n",
            "20/20 [==============================] - 0s 25ms/step - loss: 0.8946 - accuracy: 0.1581 - val_loss: 0.8357 - val_accuracy: 0.1507\n",
            "Epoch 28/300\n",
            "20/20 [==============================] - 0s 14ms/step - loss: 0.8297 - accuracy: 0.1548 - val_loss: 0.7198 - val_accuracy: 0.1490\n",
            "Epoch 29/300\n",
            "20/20 [==============================] - 0s 14ms/step - loss: 0.8172 - accuracy: 0.1523 - val_loss: 0.7688 - val_accuracy: 0.1519\n",
            "Epoch 30/300\n",
            "20/20 [==============================] - 0s 22ms/step - loss: 0.7993 - accuracy: 0.1526 - val_loss: 0.7712 - val_accuracy: 0.1515\n",
            "Epoch 31/300\n",
            "20/20 [==============================] - 1s 49ms/step - loss: 0.7838 - accuracy: 0.1508 - val_loss: 0.7690 - val_accuracy: 0.1481\n",
            "Epoch 32/300\n",
            "20/20 [==============================] - 0s 14ms/step - loss: 0.7638 - accuracy: 0.1513 - val_loss: 0.7639 - val_accuracy: 0.1483\n",
            "Epoch 33/300\n",
            "20/20 [==============================] - 0s 18ms/step - loss: 0.7548 - accuracy: 0.1465 - val_loss: 0.7564 - val_accuracy: 0.1532\n",
            "Epoch 34/300\n",
            "20/20 [==============================] - 0s 14ms/step - loss: 0.7684 - accuracy: 0.1441 - val_loss: 1.8235 - val_accuracy: 0.1822\n",
            "Epoch 35/300\n",
            "20/20 [==============================] - 0s 17ms/step - loss: 0.7493 - accuracy: 0.1473 - val_loss: 1.2040 - val_accuracy: 0.1678\n",
            "Epoch 36/300\n",
            "20/20 [==============================] - 0s 18ms/step - loss: 0.7208 - accuracy: 0.1476 - val_loss: 0.7404 - val_accuracy: 0.1593\n",
            "Epoch 37/300\n",
            "20/20 [==============================] - 0s 18ms/step - loss: 0.7083 - accuracy: 0.1475 - val_loss: 0.6365 - val_accuracy: 0.1556\n",
            "Epoch 38/300\n",
            "20/20 [==============================] - 0s 14ms/step - loss: 0.6929 - accuracy: 0.1475 - val_loss: 0.6573 - val_accuracy: 0.1490\n",
            "Epoch 39/300\n",
            "20/20 [==============================] - 0s 24ms/step - loss: 0.6783 - accuracy: 0.1469 - val_loss: 0.6512 - val_accuracy: 0.1474\n",
            "Epoch 40/300\n",
            "20/20 [==============================] - 0s 14ms/step - loss: 0.7364 - accuracy: 0.1486 - val_loss: 0.7249 - val_accuracy: 0.1435\n",
            "Epoch 41/300\n",
            "20/20 [==============================] - 1s 30ms/step - loss: 0.7143 - accuracy: 0.1470 - val_loss: 0.8082 - val_accuracy: 0.1460\n",
            "Epoch 42/300\n",
            "20/20 [==============================] - 0s 14ms/step - loss: 0.6939 - accuracy: 0.1486 - val_loss: 0.7390 - val_accuracy: 0.1455\n",
            "Epoch 43/300\n",
            "20/20 [==============================] - 0s 17ms/step - loss: 0.6644 - accuracy: 0.1470 - val_loss: 0.7120 - val_accuracy: 0.1449\n",
            "Epoch 44/300\n",
            "20/20 [==============================] - 0s 24ms/step - loss: 0.6471 - accuracy: 0.1454 - val_loss: 0.6685 - val_accuracy: 0.1402\n",
            "Epoch 45/300\n",
            "20/20 [==============================] - 0s 17ms/step - loss: 0.6379 - accuracy: 0.1442 - val_loss: 0.6707 - val_accuracy: 0.1393\n",
            "Epoch 46/300\n",
            "20/20 [==============================] - 1s 32ms/step - loss: 0.6311 - accuracy: 0.1436 - val_loss: 0.6561 - val_accuracy: 0.1382\n",
            "Epoch 47/300\n",
            "20/20 [==============================] - 0s 15ms/step - loss: 0.6231 - accuracy: 0.1436 - val_loss: 0.6429 - val_accuracy: 0.1383\n",
            "Epoch 48/300\n",
            "20/20 [==============================] - 1s 30ms/step - loss: 0.6170 - accuracy: 0.1440 - val_loss: 0.6402 - val_accuracy: 0.1399\n",
            "Epoch 49/300\n",
            "20/20 [==============================] - 1s 47ms/step - loss: 0.6103 - accuracy: 0.1447 - val_loss: 0.6299 - val_accuracy: 0.1401\n",
            "Epoch 50/300\n",
            "20/20 [==============================] - 0s 14ms/step - loss: 0.6066 - accuracy: 0.1452 - val_loss: 0.6263 - val_accuracy: 0.1401\n",
            "Epoch 51/300\n",
            "20/20 [==============================] - 0s 14ms/step - loss: 0.6013 - accuracy: 0.1452 - val_loss: 0.6008 - val_accuracy: 0.1403\n",
            "Epoch 52/300\n",
            "20/20 [==============================] - 1s 29ms/step - loss: 0.5955 - accuracy: 0.1441 - val_loss: 0.5881 - val_accuracy: 0.1406\n",
            "Epoch 53/300\n",
            "20/20 [==============================] - 0s 14ms/step - loss: 0.5882 - accuracy: 0.1449 - val_loss: 0.5757 - val_accuracy: 0.1406\n",
            "Epoch 54/300\n",
            "20/20 [==============================] - 0s 17ms/step - loss: 0.5824 - accuracy: 0.1443 - val_loss: 0.5750 - val_accuracy: 0.1414\n",
            "Epoch 55/300\n",
            "20/20 [==============================] - 0s 18ms/step - loss: 0.5797 - accuracy: 0.1449 - val_loss: 0.5737 - val_accuracy: 0.1417\n",
            "Epoch 56/300\n",
            "20/20 [==============================] - 0s 25ms/step - loss: 0.5764 - accuracy: 0.1447 - val_loss: 0.5714 - val_accuracy: 0.1415\n",
            "Epoch 57/300\n",
            "20/20 [==============================] - 0s 18ms/step - loss: 0.5711 - accuracy: 0.1451 - val_loss: 0.5645 - val_accuracy: 0.1410\n",
            "Epoch 58/300\n",
            "20/20 [==============================] - 0s 18ms/step - loss: 0.5682 - accuracy: 0.1446 - val_loss: 0.5708 - val_accuracy: 0.1413\n",
            "Epoch 59/300\n",
            "20/20 [==============================] - 1s 30ms/step - loss: 0.5628 - accuracy: 0.1450 - val_loss: 0.5543 - val_accuracy: 0.1416\n",
            "Epoch 60/300\n",
            "20/20 [==============================] - 0s 14ms/step - loss: 0.5603 - accuracy: 0.1449 - val_loss: 0.5785 - val_accuracy: 0.1421\n",
            "Epoch 61/300\n",
            "20/20 [==============================] - 0s 18ms/step - loss: 0.5566 - accuracy: 0.1442 - val_loss: 0.5620 - val_accuracy: 0.1406\n",
            "Epoch 62/300\n",
            "20/20 [==============================] - 0s 14ms/step - loss: 0.5497 - accuracy: 0.1439 - val_loss: 0.5613 - val_accuracy: 0.1397\n",
            "Epoch 63/300\n",
            "20/20 [==============================] - 0s 14ms/step - loss: 0.5490 - accuracy: 0.1440 - val_loss: 0.5614 - val_accuracy: 0.1440\n",
            "Epoch 64/300\n",
            "20/20 [==============================] - 0s 22ms/step - loss: 0.5479 - accuracy: 0.1437 - val_loss: 0.5675 - val_accuracy: 0.1429\n",
            "Epoch 65/300\n",
            "20/20 [==============================] - 0s 13ms/step - loss: 0.5430 - accuracy: 0.1449 - val_loss: 0.5651 - val_accuracy: 0.1420\n",
            "Epoch 66/300\n",
            "20/20 [==============================] - 0s 14ms/step - loss: 0.5370 - accuracy: 0.1456 - val_loss: 0.5577 - val_accuracy: 0.1411\n",
            "Epoch 67/300\n",
            "20/20 [==============================] - 0s 25ms/step - loss: 0.5944 - accuracy: 0.1467 - val_loss: 0.7737 - val_accuracy: 0.1456\n",
            "Epoch 68/300\n",
            "20/20 [==============================] - 0s 17ms/step - loss: 0.5987 - accuracy: 0.1459 - val_loss: 0.7321 - val_accuracy: 0.1452\n",
            "Epoch 69/300\n",
            "20/20 [==============================] - 0s 14ms/step - loss: 0.5860 - accuracy: 0.1458 - val_loss: 1.1194 - val_accuracy: 0.1438\n",
            "Epoch 70/300\n",
            "20/20 [==============================] - 0s 14ms/step - loss: 0.5742 - accuracy: 0.1424 - val_loss: 0.7925 - val_accuracy: 0.1363\n",
            "Epoch 71/300\n",
            "20/20 [==============================] - 0s 15ms/step - loss: 0.5616 - accuracy: 0.1421 - val_loss: 0.5835 - val_accuracy: 0.1372\n",
            "Epoch 72/300\n",
            "20/20 [==============================] - 0s 18ms/step - loss: 0.5488 - accuracy: 0.1436 - val_loss: 0.5726 - val_accuracy: 0.1372\n",
            "Epoch 73/300\n",
            "20/20 [==============================] - 0s 18ms/step - loss: 0.5359 - accuracy: 0.1433 - val_loss: 0.5520 - val_accuracy: 0.1400\n",
            "Epoch 74/300\n",
            "20/20 [==============================] - 0s 25ms/step - loss: 0.5332 - accuracy: 0.1463 - val_loss: 0.5542 - val_accuracy: 0.1403\n",
            "Epoch 75/300\n",
            "20/20 [==============================] - 0s 14ms/step - loss: 0.5296 - accuracy: 0.1443 - val_loss: 0.5619 - val_accuracy: 0.1411\n",
            "Epoch 76/300\n",
            "20/20 [==============================] - 0s 24ms/step - loss: 0.5258 - accuracy: 0.1446 - val_loss: 0.5619 - val_accuracy: 0.1412\n",
            "Epoch 77/300\n",
            "20/20 [==============================] - 1s 44ms/step - loss: 0.5173 - accuracy: 0.1454 - val_loss: 0.5487 - val_accuracy: 0.1391\n",
            "Epoch 78/300\n",
            "20/20 [==============================] - 0s 14ms/step - loss: 0.5129 - accuracy: 0.1454 - val_loss: 0.5526 - val_accuracy: 0.1401\n",
            "Epoch 79/300\n",
            "20/20 [==============================] - 0s 18ms/step - loss: 0.5115 - accuracy: 0.1471 - val_loss: 0.5561 - val_accuracy: 0.1375\n",
            "Epoch 80/300\n",
            "20/20 [==============================] - 0s 17ms/step - loss: 0.5077 - accuracy: 0.1463 - val_loss: 0.5665 - val_accuracy: 0.1375\n",
            "Epoch 81/300\n",
            "20/20 [==============================] - 1s 27ms/step - loss: 0.5167 - accuracy: 0.1464 - val_loss: 0.5847 - val_accuracy: 0.1384\n",
            "Epoch 82/300\n",
            "20/20 [==============================] - 1s 47ms/step - loss: 0.5324 - accuracy: 0.1430 - val_loss: 1.0056 - val_accuracy: 0.1813\n",
            "Epoch 83/300\n",
            "20/20 [==============================] - 0s 14ms/step - loss: 0.5215 - accuracy: 0.1453 - val_loss: 0.6686 - val_accuracy: 0.1509\n",
            "Epoch 84/300\n",
            "20/20 [==============================] - 0s 15ms/step - loss: 0.6670 - accuracy: 0.1441 - val_loss: 2.8099 - val_accuracy: 0.2489\n",
            "Epoch 85/300\n",
            "20/20 [==============================] - 0s 15ms/step - loss: 0.6675 - accuracy: 0.1442 - val_loss: 0.9439 - val_accuracy: 0.1960\n",
            "Epoch 86/300\n",
            "20/20 [==============================] - 0s 15ms/step - loss: 0.5643 - accuracy: 0.1477 - val_loss: 0.6490 - val_accuracy: 0.1698\n",
            "Epoch 87/300\n",
            "20/20 [==============================] - 0s 13ms/step - loss: 0.5700 - accuracy: 0.1515 - val_loss: 1.0144 - val_accuracy: 0.1881\n",
            "Epoch 88/300\n",
            "20/20 [==============================] - 1s 29ms/step - loss: 0.8075 - accuracy: 0.1551 - val_loss: 4.5384 - val_accuracy: 0.3213\n",
            "Epoch 89/300\n",
            "20/20 [==============================] - 0s 18ms/step - loss: 0.6200 - accuracy: 0.1513 - val_loss: 3.4136 - val_accuracy: 0.2372\n",
            "Epoch 90/300\n",
            "20/20 [==============================] - 0s 14ms/step - loss: 0.5728 - accuracy: 0.1408 - val_loss: 1.6586 - val_accuracy: 0.1932\n",
            "Epoch 91/300\n",
            "20/20 [==============================] - 0s 23ms/step - loss: 0.5355 - accuracy: 0.1381 - val_loss: 0.9200 - val_accuracy: 0.1695\n",
            "Epoch 92/300\n",
            "20/20 [==============================] - 0s 14ms/step - loss: 0.5108 - accuracy: 0.1417 - val_loss: 0.9268 - val_accuracy: 0.1636\n",
            "Epoch 93/300\n",
            "20/20 [==============================] - 0s 17ms/step - loss: 0.5163 - accuracy: 0.1409 - val_loss: 0.6636 - val_accuracy: 0.1549\n",
            "Epoch 94/300\n",
            "20/20 [==============================] - 1s 48ms/step - loss: 0.5019 - accuracy: 0.1439 - val_loss: 0.5864 - val_accuracy: 0.1434\n",
            "Epoch 95/300\n",
            "20/20 [==============================] - 0s 15ms/step - loss: 0.4894 - accuracy: 0.1444 - val_loss: 0.5512 - val_accuracy: 0.1376\n",
            "Epoch 96/300\n",
            "20/20 [==============================] - 0s 14ms/step - loss: 0.4798 - accuracy: 0.1427 - val_loss: 0.5221 - val_accuracy: 0.1363\n",
            "Epoch 97/300\n",
            "20/20 [==============================] - 0s 13ms/step - loss: 0.4843 - accuracy: 0.1432 - val_loss: 0.4992 - val_accuracy: 0.1379\n",
            "Epoch 98/300\n",
            "20/20 [==============================] - 0s 25ms/step - loss: 0.4735 - accuracy: 0.1425 - val_loss: 0.4758 - val_accuracy: 0.1401\n",
            "Epoch 99/300\n",
            "20/20 [==============================] - 0s 18ms/step - loss: 0.4660 - accuracy: 0.1435 - val_loss: 0.4738 - val_accuracy: 0.1395\n",
            "Epoch 100/300\n",
            "20/20 [==============================] - 0s 19ms/step - loss: 0.4635 - accuracy: 0.1390 - val_loss: 0.4759 - val_accuracy: 0.1383\n",
            "Epoch 101/300\n",
            "20/20 [==============================] - 0s 18ms/step - loss: 0.4599 - accuracy: 0.1411 - val_loss: 0.4761 - val_accuracy: 0.1400\n",
            "Epoch 102/300\n",
            "20/20 [==============================] - 0s 18ms/step - loss: 0.4561 - accuracy: 0.1415 - val_loss: 0.4798 - val_accuracy: 0.1407\n",
            "Epoch 103/300\n",
            "20/20 [==============================] - 0s 19ms/step - loss: 0.4543 - accuracy: 0.1407 - val_loss: 0.4802 - val_accuracy: 0.1401\n",
            "Epoch 104/300\n",
            "20/20 [==============================] - 0s 18ms/step - loss: 0.4520 - accuracy: 0.1422 - val_loss: 0.4750 - val_accuracy: 0.1411\n",
            "Epoch 105/300\n",
            "20/20 [==============================] - 0s 18ms/step - loss: 0.4501 - accuracy: 0.1406 - val_loss: 0.4934 - val_accuracy: 0.1402\n",
            "Epoch 106/300\n",
            "20/20 [==============================] - 1s 43ms/step - loss: 0.4484 - accuracy: 0.1422 - val_loss: 0.4764 - val_accuracy: 0.1411\n",
            "Epoch 107/300\n",
            "20/20 [==============================] - 0s 14ms/step - loss: 0.4466 - accuracy: 0.1407 - val_loss: 0.4731 - val_accuracy: 0.1401\n",
            "Epoch 108/300\n",
            "20/20 [==============================] - 0s 18ms/step - loss: 0.4457 - accuracy: 0.1410 - val_loss: 0.4769 - val_accuracy: 0.1400\n",
            "Epoch 109/300\n",
            "20/20 [==============================] - 0s 23ms/step - loss: 0.4431 - accuracy: 0.1415 - val_loss: 0.4779 - val_accuracy: 0.1409\n",
            "Epoch 110/300\n",
            "20/20 [==============================] - 0s 15ms/step - loss: 0.4421 - accuracy: 0.1418 - val_loss: 0.5024 - val_accuracy: 0.1413\n",
            "Epoch 111/300\n",
            "20/20 [==============================] - 0s 18ms/step - loss: 0.4405 - accuracy: 0.1425 - val_loss: 0.4718 - val_accuracy: 0.1402\n",
            "Epoch 112/300\n",
            "20/20 [==============================] - 1s 35ms/step - loss: 0.4403 - accuracy: 0.1410 - val_loss: 0.4751 - val_accuracy: 0.1371\n",
            "Epoch 113/300\n",
            "20/20 [==============================] - 0s 13ms/step - loss: 0.4459 - accuracy: 0.1409 - val_loss: 0.4888 - val_accuracy: 0.1431\n",
            "Epoch 114/300\n",
            "20/20 [==============================] - 1s 33ms/step - loss: 0.4474 - accuracy: 0.1409 - val_loss: 0.4758 - val_accuracy: 0.1418\n",
            "Epoch 115/300\n",
            "20/20 [==============================] - 0s 17ms/step - loss: 0.4413 - accuracy: 0.1407 - val_loss: 0.4943 - val_accuracy: 0.1407\n",
            "Epoch 116/300\n",
            "20/20 [==============================] - 1s 29ms/step - loss: 0.4457 - accuracy: 0.1383 - val_loss: 0.5036 - val_accuracy: 0.1429\n",
            "Epoch 117/300\n",
            "20/20 [==============================] - 0s 14ms/step - loss: 0.4486 - accuracy: 0.1393 - val_loss: 0.5591 - val_accuracy: 0.1465\n",
            "Epoch 118/300\n",
            "20/20 [==============================] - 0s 18ms/step - loss: 0.4412 - accuracy: 0.1392 - val_loss: 0.6327 - val_accuracy: 0.1474\n",
            "Epoch 119/300\n",
            "20/20 [==============================] - 1s 57ms/step - loss: 0.4366 - accuracy: 0.1423 - val_loss: 0.4895 - val_accuracy: 0.1423\n",
            "Epoch 120/300\n",
            "20/20 [==============================] - 1s 46ms/step - loss: 0.4335 - accuracy: 0.1417 - val_loss: 0.8864 - val_accuracy: 0.1549\n",
            "Epoch 121/300\n",
            "20/20 [==============================] - 0s 15ms/step - loss: 0.4311 - accuracy: 0.1425 - val_loss: 0.6025 - val_accuracy: 0.1463\n",
            "Epoch 122/300\n",
            "20/20 [==============================] - 0s 17ms/step - loss: 0.4290 - accuracy: 0.1430 - val_loss: 0.4997 - val_accuracy: 0.1410\n",
            "Epoch 123/300\n",
            "20/20 [==============================] - 0s 18ms/step - loss: 0.4269 - accuracy: 0.1428 - val_loss: 0.5780 - val_accuracy: 0.1445\n",
            "Epoch 124/300\n",
            "20/20 [==============================] - 1s 27ms/step - loss: 0.4301 - accuracy: 0.1430 - val_loss: 0.4701 - val_accuracy: 0.1368\n",
            "Epoch 125/300\n",
            "20/20 [==============================] - 0s 13ms/step - loss: 0.4304 - accuracy: 0.1437 - val_loss: 0.4604 - val_accuracy: 0.1439\n",
            "Epoch 126/300\n",
            "20/20 [==============================] - 1s 26ms/step - loss: 0.4240 - accuracy: 0.1454 - val_loss: 0.5742 - val_accuracy: 0.1464\n",
            "Epoch 127/300\n",
            "20/20 [==============================] - 0s 15ms/step - loss: 0.4206 - accuracy: 0.1439 - val_loss: 0.4999 - val_accuracy: 0.1426\n",
            "Epoch 128/300\n",
            "20/20 [==============================] - 0s 18ms/step - loss: 0.4246 - accuracy: 0.1434 - val_loss: 0.4763 - val_accuracy: 0.1493\n",
            "Epoch 129/300\n",
            "20/20 [==============================] - 0s 18ms/step - loss: 0.4239 - accuracy: 0.1482 - val_loss: 0.4944 - val_accuracy: 0.1471\n",
            "Epoch 130/300\n",
            "20/20 [==============================] - 0s 14ms/step - loss: 0.4235 - accuracy: 0.1447 - val_loss: 0.5299 - val_accuracy: 0.1544\n",
            "Epoch 131/300\n",
            "20/20 [==============================] - 0s 14ms/step - loss: 0.4220 - accuracy: 0.1479 - val_loss: 0.4683 - val_accuracy: 0.1447\n",
            "Epoch 132/300\n",
            "20/20 [==============================] - 1s 35ms/step - loss: 0.4184 - accuracy: 0.1478 - val_loss: 0.4848 - val_accuracy: 0.1423\n",
            "Epoch 133/300\n",
            "20/20 [==============================] - 0s 15ms/step - loss: 0.4158 - accuracy: 0.1486 - val_loss: 0.5332 - val_accuracy: 0.1493\n",
            "Epoch 134/300\n",
            "20/20 [==============================] - 0s 18ms/step - loss: 0.4168 - accuracy: 0.1461 - val_loss: 0.4887 - val_accuracy: 0.1434\n",
            "Epoch 135/300\n",
            "20/20 [==============================] - 1s 58ms/step - loss: 0.4132 - accuracy: 0.1483 - val_loss: 0.4725 - val_accuracy: 0.1440\n",
            "Epoch 136/300\n",
            "20/20 [==============================] - 0s 14ms/step - loss: 0.4156 - accuracy: 0.1488 - val_loss: 0.4644 - val_accuracy: 0.1462\n",
            "Epoch 137/300\n",
            "20/20 [==============================] - 0s 18ms/step - loss: 0.4215 - accuracy: 0.1513 - val_loss: 0.4590 - val_accuracy: 0.1517\n",
            "Epoch 138/300\n",
            "20/20 [==============================] - 1s 26ms/step - loss: 0.4141 - accuracy: 0.1495 - val_loss: 0.5074 - val_accuracy: 0.1486\n",
            "Epoch 139/300\n",
            "20/20 [==============================] - 0s 17ms/step - loss: 0.4527 - accuracy: 0.1463 - val_loss: 3.3989 - val_accuracy: 0.2789\n",
            "Epoch 140/300\n",
            "20/20 [==============================] - 0s 26ms/step - loss: 0.4891 - accuracy: 0.1449 - val_loss: 2.8547 - val_accuracy: 0.2600\n",
            "Epoch 141/300\n",
            "20/20 [==============================] - 0s 14ms/step - loss: 0.4729 - accuracy: 0.1426 - val_loss: 1.8088 - val_accuracy: 0.2237\n",
            "Epoch 142/300\n",
            "20/20 [==============================] - 0s 21ms/step - loss: 0.4624 - accuracy: 0.1375 - val_loss: 1.0332 - val_accuracy: 0.1864\n",
            "Epoch 143/300\n",
            "20/20 [==============================] - 0s 15ms/step - loss: 0.4528 - accuracy: 0.1408 - val_loss: 0.6576 - val_accuracy: 0.1582\n",
            "Epoch 144/300\n",
            "20/20 [==============================] - 0s 14ms/step - loss: 0.4468 - accuracy: 0.1418 - val_loss: 0.5513 - val_accuracy: 0.1509\n",
            "Epoch 145/300\n",
            "20/20 [==============================] - 0s 15ms/step - loss: 0.4427 - accuracy: 0.1414 - val_loss: 0.5150 - val_accuracy: 0.1529\n",
            "Epoch 146/300\n",
            "20/20 [==============================] - 1s 27ms/step - loss: 0.4429 - accuracy: 0.1419 - val_loss: 0.4888 - val_accuracy: 0.1472\n",
            "Epoch 147/300\n",
            "20/20 [==============================] - 0s 15ms/step - loss: 0.4370 - accuracy: 0.1421 - val_loss: 0.4732 - val_accuracy: 0.1425\n",
            "Epoch 148/300\n",
            "20/20 [==============================] - 0s 25ms/step - loss: 0.4329 - accuracy: 0.1429 - val_loss: 0.4771 - val_accuracy: 0.1415\n",
            "Epoch 149/300\n",
            "20/20 [==============================] - 0s 15ms/step - loss: 0.4307 - accuracy: 0.1440 - val_loss: 0.4847 - val_accuracy: 0.1464\n",
            "Epoch 150/300\n",
            "20/20 [==============================] - 0s 14ms/step - loss: 0.4279 - accuracy: 0.1460 - val_loss: 0.8035 - val_accuracy: 0.1606\n",
            "Epoch 151/300\n",
            "20/20 [==============================] - 0s 18ms/step - loss: 0.4230 - accuracy: 0.1492 - val_loss: 0.9196 - val_accuracy: 0.1596\n",
            "Epoch 152/300\n",
            "20/20 [==============================] - 0s 17ms/step - loss: 0.4374 - accuracy: 0.1496 - val_loss: 0.8184 - val_accuracy: 0.0925\n",
            "Epoch 153/300\n",
            "20/20 [==============================] - 0s 15ms/step - loss: 0.6040 - accuracy: 0.1475 - val_loss: 2.9258 - val_accuracy: 0.3081\n",
            "Epoch 154/300\n",
            "20/20 [==============================] - 1s 46ms/step - loss: 0.5072 - accuracy: 0.1533 - val_loss: 2.1896 - val_accuracy: 0.2822\n",
            "Epoch 155/300\n",
            "20/20 [==============================] - 0s 15ms/step - loss: 0.4907 - accuracy: 0.1529 - val_loss: 1.8723 - val_accuracy: 0.2642\n",
            "Epoch 156/300\n",
            "20/20 [==============================] - 0s 18ms/step - loss: 0.4818 - accuracy: 0.1517 - val_loss: 1.8314 - val_accuracy: 0.2599\n",
            "Epoch 157/300\n",
            "20/20 [==============================] - 0s 15ms/step - loss: 0.4743 - accuracy: 0.1505 - val_loss: 1.0508 - val_accuracy: 0.2027\n",
            "Epoch 158/300\n",
            "20/20 [==============================] - 0s 17ms/step - loss: 0.4694 - accuracy: 0.1502 - val_loss: 0.9039 - val_accuracy: 0.1887\n",
            "Epoch 159/300\n",
            "20/20 [==============================] - 0s 21ms/step - loss: 0.4656 - accuracy: 0.1493 - val_loss: 0.8041 - val_accuracy: 0.1806\n",
            "Epoch 160/300\n",
            "20/20 [==============================] - 0s 14ms/step - loss: 0.4632 - accuracy: 0.1493 - val_loss: 0.6788 - val_accuracy: 0.1680\n",
            "Epoch 161/300\n",
            "20/20 [==============================] - 0s 14ms/step - loss: 0.4601 - accuracy: 0.1491 - val_loss: 0.6310 - val_accuracy: 0.1636\n",
            "Epoch 162/300\n",
            "20/20 [==============================] - 0s 21ms/step - loss: 0.4576 - accuracy: 0.1487 - val_loss: 0.5693 - val_accuracy: 0.1570\n",
            "Epoch 163/300\n",
            "20/20 [==============================] - 0s 19ms/step - loss: 0.4552 - accuracy: 0.1485 - val_loss: 0.5385 - val_accuracy: 0.1541\n",
            "Epoch 164/300\n",
            "20/20 [==============================] - 0s 23ms/step - loss: 0.4533 - accuracy: 0.1492 - val_loss: 0.5419 - val_accuracy: 0.1547\n",
            "Epoch 165/300\n",
            "20/20 [==============================] - 0s 18ms/step - loss: 0.4515 - accuracy: 0.1500 - val_loss: 0.5313 - val_accuracy: 0.1539\n",
            "Epoch 166/300\n",
            "20/20 [==============================] - 0s 18ms/step - loss: 0.4495 - accuracy: 0.1501 - val_loss: 0.4836 - val_accuracy: 0.1481\n",
            "Epoch 167/300\n",
            "20/20 [==============================] - 0s 15ms/step - loss: 0.4474 - accuracy: 0.1501 - val_loss: 0.5616 - val_accuracy: 0.1571\n",
            "Epoch 168/300\n",
            "20/20 [==============================] - 0s 18ms/step - loss: 0.4463 - accuracy: 0.1519 - val_loss: 0.4983 - val_accuracy: 0.1499\n",
            "Epoch 169/300\n",
            "20/20 [==============================] - 0s 14ms/step - loss: 0.4517 - accuracy: 0.1466 - val_loss: 0.4662 - val_accuracy: 0.1431\n",
            "Epoch 170/300\n",
            "20/20 [==============================] - 1s 30ms/step - loss: 0.4494 - accuracy: 0.1454 - val_loss: 0.4782 - val_accuracy: 0.1446\n",
            "Epoch 171/300\n",
            "20/20 [==============================] - 0s 19ms/step - loss: 0.4454 - accuracy: 0.1459 - val_loss: 0.4803 - val_accuracy: 0.1413\n",
            "Epoch 172/300\n",
            "20/20 [==============================] - 1s 27ms/step - loss: 0.4568 - accuracy: 0.1450 - val_loss: 0.4814 - val_accuracy: 0.1362\n",
            "Epoch 173/300\n",
            "20/20 [==============================] - 0s 19ms/step - loss: 0.4508 - accuracy: 0.1449 - val_loss: 0.4686 - val_accuracy: 0.1398\n",
            "Epoch 174/300\n",
            "20/20 [==============================] - 1s 27ms/step - loss: 0.4431 - accuracy: 0.1465 - val_loss: 0.4760 - val_accuracy: 0.1425\n",
            "Epoch 175/300\n",
            "20/20 [==============================] - 0s 14ms/step - loss: 0.4391 - accuracy: 0.1502 - val_loss: 0.4666 - val_accuracy: 0.1408\n",
            "Epoch 176/300\n",
            "20/20 [==============================] - 0s 15ms/step - loss: 0.4370 - accuracy: 0.1505 - val_loss: 0.4671 - val_accuracy: 0.1421\n",
            "Epoch 177/300\n",
            "20/20 [==============================] - 1s 29ms/step - loss: 0.4343 - accuracy: 0.1508 - val_loss: 0.4817 - val_accuracy: 0.1438\n",
            "Epoch 178/300\n",
            "20/20 [==============================] - 0s 14ms/step - loss: 0.4326 - accuracy: 0.1502 - val_loss: 0.4604 - val_accuracy: 0.1403\n",
            "Epoch 179/300\n",
            "20/20 [==============================] - 1s 27ms/step - loss: 0.4315 - accuracy: 0.1512 - val_loss: 0.4683 - val_accuracy: 0.1432\n",
            "Epoch 180/300\n",
            "20/20 [==============================] - 0s 14ms/step - loss: 0.4302 - accuracy: 0.1513 - val_loss: 0.4571 - val_accuracy: 0.1408\n",
            "Epoch 181/300\n",
            "20/20 [==============================] - 0s 15ms/step - loss: 0.4356 - accuracy: 0.1508 - val_loss: 0.5624 - val_accuracy: 0.1453\n",
            "Epoch 182/300\n",
            "20/20 [==============================] - 0s 19ms/step - loss: 0.4372 - accuracy: 0.1465 - val_loss: 0.4660 - val_accuracy: 0.1418\n",
            "Epoch 183/300\n",
            "20/20 [==============================] - 0s 20ms/step - loss: 0.4285 - accuracy: 0.1470 - val_loss: 0.4582 - val_accuracy: 0.1420\n",
            "Epoch 184/300\n",
            "20/20 [==============================] - 0s 17ms/step - loss: 0.4247 - accuracy: 0.1506 - val_loss: 0.4605 - val_accuracy: 0.1414\n",
            "Epoch 185/300\n",
            "20/20 [==============================] - 0s 15ms/step - loss: 0.4236 - accuracy: 0.1518 - val_loss: 0.4537 - val_accuracy: 0.1426\n",
            "Epoch 186/300\n",
            "20/20 [==============================] - 0s 18ms/step - loss: 0.4219 - accuracy: 0.1518 - val_loss: 0.4538 - val_accuracy: 0.1402\n",
            "Epoch 187/300\n",
            "20/20 [==============================] - 0s 18ms/step - loss: 0.4199 - accuracy: 0.1510 - val_loss: 0.4538 - val_accuracy: 0.1391\n",
            "Epoch 188/300\n",
            "20/20 [==============================] - 0s 15ms/step - loss: 0.4190 - accuracy: 0.1520 - val_loss: 0.4514 - val_accuracy: 0.1431\n",
            "Epoch 189/300\n",
            "20/20 [==============================] - 0s 18ms/step - loss: 0.4166 - accuracy: 0.1513 - val_loss: 0.4571 - val_accuracy: 0.1387\n",
            "Epoch 190/300\n",
            "20/20 [==============================] - 0s 14ms/step - loss: 0.4165 - accuracy: 0.1491 - val_loss: 0.4539 - val_accuracy: 0.1427\n",
            "Epoch 191/300\n",
            "20/20 [==============================] - 0s 24ms/step - loss: 0.4160 - accuracy: 0.1499 - val_loss: 0.4522 - val_accuracy: 0.1403\n",
            "Epoch 192/300\n",
            "20/20 [==============================] - 0s 19ms/step - loss: 0.4121 - accuracy: 0.1493 - val_loss: 0.4482 - val_accuracy: 0.1411\n",
            "Epoch 193/300\n",
            "20/20 [==============================] - 1s 61ms/step - loss: 0.4132 - accuracy: 0.1521 - val_loss: 0.5450 - val_accuracy: 0.1525\n",
            "Epoch 194/300\n",
            "20/20 [==============================] - 0s 15ms/step - loss: 0.4130 - accuracy: 0.1499 - val_loss: 0.4486 - val_accuracy: 0.1435\n",
            "Epoch 195/300\n",
            "20/20 [==============================] - 0s 14ms/step - loss: 0.4108 - accuracy: 0.1531 - val_loss: 0.4438 - val_accuracy: 0.1426\n",
            "Epoch 196/300\n",
            "20/20 [==============================] - 1s 48ms/step - loss: 0.4180 - accuracy: 0.1507 - val_loss: 0.6069 - val_accuracy: 0.1623\n",
            "Epoch 197/300\n",
            "20/20 [==============================] - 0s 16ms/step - loss: 0.4366 - accuracy: 0.1434 - val_loss: 0.4883 - val_accuracy: 0.1419\n",
            "Epoch 198/300\n",
            "20/20 [==============================] - 0s 14ms/step - loss: 0.4219 - accuracy: 0.1435 - val_loss: 0.4613 - val_accuracy: 0.1405\n",
            "Epoch 199/300\n",
            "20/20 [==============================] - 0s 24ms/step - loss: 0.4170 - accuracy: 0.1487 - val_loss: 0.4618 - val_accuracy: 0.1453\n",
            "Epoch 200/300\n",
            "20/20 [==============================] - 0s 18ms/step - loss: 0.4138 - accuracy: 0.1513 - val_loss: 0.4425 - val_accuracy: 0.1452\n",
            "Epoch 201/300\n",
            "20/20 [==============================] - 0s 15ms/step - loss: 0.4105 - accuracy: 0.1533 - val_loss: 0.4371 - val_accuracy: 0.1443\n",
            "Epoch 202/300\n",
            "20/20 [==============================] - 1s 59ms/step - loss: 0.4137 - accuracy: 0.1513 - val_loss: 0.4965 - val_accuracy: 0.1402\n",
            "Epoch 203/300\n",
            "20/20 [==============================] - 0s 18ms/step - loss: 0.4158 - accuracy: 0.1496 - val_loss: 0.4537 - val_accuracy: 0.1393\n",
            "Epoch 204/300\n",
            "20/20 [==============================] - 0s 16ms/step - loss: 0.4083 - accuracy: 0.1521 - val_loss: 0.4464 - val_accuracy: 0.1408\n",
            "Epoch 205/300\n",
            "20/20 [==============================] - 1s 30ms/step - loss: 0.4050 - accuracy: 0.1550 - val_loss: 0.4391 - val_accuracy: 0.1421\n",
            "Epoch 206/300\n",
            "20/20 [==============================] - 0s 14ms/step - loss: 0.4035 - accuracy: 0.1550 - val_loss: 0.4332 - val_accuracy: 0.1418\n",
            "Epoch 207/300\n",
            "20/20 [==============================] - 0s 19ms/step - loss: 0.4012 - accuracy: 0.1546 - val_loss: 0.4459 - val_accuracy: 0.1437\n",
            "Epoch 208/300\n",
            "20/20 [==============================] - 1s 45ms/step - loss: 0.4025 - accuracy: 0.1554 - val_loss: 0.4372 - val_accuracy: 0.1509\n",
            "Epoch 209/300\n",
            "20/20 [==============================] - 0s 14ms/step - loss: 0.4041 - accuracy: 0.1552 - val_loss: 0.5347 - val_accuracy: 0.1608\n",
            "Epoch 210/300\n",
            "20/20 [==============================] - 0s 14ms/step - loss: 0.4062 - accuracy: 0.1527 - val_loss: 0.4664 - val_accuracy: 0.1528\n",
            "Epoch 211/300\n",
            "20/20 [==============================] - 0s 18ms/step - loss: 0.4014 - accuracy: 0.1559 - val_loss: 0.4908 - val_accuracy: 0.1583\n",
            "Epoch 212/300\n",
            "20/20 [==============================] - 0s 19ms/step - loss: 0.3990 - accuracy: 0.1573 - val_loss: 0.4707 - val_accuracy: 0.1568\n",
            "Epoch 213/300\n",
            "20/20 [==============================] - 0s 18ms/step - loss: 0.3966 - accuracy: 0.1571 - val_loss: 0.4744 - val_accuracy: 0.1582\n",
            "Epoch 214/300\n",
            "20/20 [==============================] - 1s 26ms/step - loss: 0.3969 - accuracy: 0.1570 - val_loss: 0.4534 - val_accuracy: 0.1556\n",
            "Epoch 215/300\n",
            "20/20 [==============================] - 0s 16ms/step - loss: 0.3953 - accuracy: 0.1550 - val_loss: 0.4419 - val_accuracy: 0.1563\n",
            "Epoch 216/300\n",
            "20/20 [==============================] - 0s 18ms/step - loss: 0.3986 - accuracy: 0.1541 - val_loss: 0.5136 - val_accuracy: 0.1655\n",
            "Epoch 217/300\n",
            "20/20 [==============================] - 0s 18ms/step - loss: 0.5023 - accuracy: 0.1396 - val_loss: 1.8338 - val_accuracy: 0.1583\n",
            "Epoch 218/300\n",
            "20/20 [==============================] - 0s 15ms/step - loss: 0.4666 - accuracy: 0.1409 - val_loss: 1.5024 - val_accuracy: 0.1611\n",
            "Epoch 219/300\n",
            "20/20 [==============================] - 0s 18ms/step - loss: 0.4506 - accuracy: 0.1388 - val_loss: 1.1390 - val_accuracy: 0.1555\n",
            "Epoch 220/300\n",
            "20/20 [==============================] - 0s 22ms/step - loss: 0.4432 - accuracy: 0.1388 - val_loss: 0.6758 - val_accuracy: 0.1488\n",
            "Epoch 221/300\n",
            "20/20 [==============================] - 0s 16ms/step - loss: 0.4377 - accuracy: 0.1400 - val_loss: 0.5477 - val_accuracy: 0.1450\n",
            "Epoch 222/300\n",
            "20/20 [==============================] - 0s 14ms/step - loss: 0.4321 - accuracy: 0.1399 - val_loss: 0.4832 - val_accuracy: 0.1432\n",
            "Epoch 223/300\n",
            "20/20 [==============================] - 0s 18ms/step - loss: 0.4279 - accuracy: 0.1404 - val_loss: 0.4885 - val_accuracy: 0.1421\n",
            "Epoch 224/300\n",
            "20/20 [==============================] - 1s 47ms/step - loss: 0.4275 - accuracy: 0.1398 - val_loss: 0.4550 - val_accuracy: 0.1362\n",
            "Epoch 225/300\n",
            "20/20 [==============================] - 0s 20ms/step - loss: 0.4224 - accuracy: 0.1412 - val_loss: 0.4444 - val_accuracy: 0.1403\n",
            "Epoch 226/300\n",
            "20/20 [==============================] - 0s 14ms/step - loss: 0.4185 - accuracy: 0.1440 - val_loss: 0.4822 - val_accuracy: 0.1437\n",
            "Epoch 227/300\n",
            "20/20 [==============================] - 1s 27ms/step - loss: 0.4128 - accuracy: 0.1465 - val_loss: 0.4815 - val_accuracy: 0.1420\n",
            "Epoch 228/300\n",
            "20/20 [==============================] - 0s 21ms/step - loss: 0.4075 - accuracy: 0.1480 - val_loss: 0.4519 - val_accuracy: 0.1408\n",
            "Epoch 229/300\n",
            "20/20 [==============================] - 0s 14ms/step - loss: 0.4035 - accuracy: 0.1512 - val_loss: 0.4618 - val_accuracy: 0.1428\n",
            "Epoch 230/300\n",
            "20/20 [==============================] - 1s 69ms/step - loss: 0.4001 - accuracy: 0.1507 - val_loss: 0.4360 - val_accuracy: 0.1417\n",
            "Epoch 231/300\n",
            "20/20 [==============================] - 0s 18ms/step - loss: 0.3986 - accuracy: 0.1537 - val_loss: 0.4342 - val_accuracy: 0.1419\n",
            "Epoch 232/300\n",
            "20/20 [==============================] - 1s 28ms/step - loss: 0.3977 - accuracy: 0.1523 - val_loss: 0.4287 - val_accuracy: 0.1416\n",
            "Epoch 233/300\n",
            "20/20 [==============================] - 0s 14ms/step - loss: 0.3962 - accuracy: 0.1524 - val_loss: 0.4293 - val_accuracy: 0.1426\n",
            "Epoch 234/300\n",
            "20/20 [==============================] - 0s 15ms/step - loss: 0.4075 - accuracy: 0.1555 - val_loss: 0.5571 - val_accuracy: 0.1571\n",
            "Epoch 235/300\n",
            "20/20 [==============================] - 0s 21ms/step - loss: 0.4252 - accuracy: 0.1471 - val_loss: 0.4780 - val_accuracy: 0.1587\n",
            "Epoch 236/300\n",
            "20/20 [==============================] - 0s 19ms/step - loss: 0.4125 - accuracy: 0.1503 - val_loss: 0.4742 - val_accuracy: 0.1574\n",
            "Epoch 237/300\n",
            "20/20 [==============================] - 0s 18ms/step - loss: 0.4038 - accuracy: 0.1530 - val_loss: 0.4443 - val_accuracy: 0.1491\n",
            "Epoch 238/300\n",
            "20/20 [==============================] - 0s 16ms/step - loss: 0.4920 - accuracy: 0.1351 - val_loss: 2.5833 - val_accuracy: 0.2395\n",
            "Epoch 239/300\n",
            "20/20 [==============================] - 0s 18ms/step - loss: 0.5058 - accuracy: 0.1403 - val_loss: 1.7403 - val_accuracy: 0.1914\n",
            "Epoch 240/300\n",
            "20/20 [==============================] - 0s 22ms/step - loss: 0.4839 - accuracy: 0.1403 - val_loss: 0.7403 - val_accuracy: 0.1644\n",
            "Epoch 241/300\n",
            "20/20 [==============================] - 0s 18ms/step - loss: 0.4641 - accuracy: 0.1395 - val_loss: 0.5424 - val_accuracy: 0.1501\n",
            "Epoch 242/300\n",
            "20/20 [==============================] - 0s 14ms/step - loss: 0.4570 - accuracy: 0.1404 - val_loss: 0.4944 - val_accuracy: 0.1445\n",
            "Epoch 243/300\n",
            "20/20 [==============================] - 1s 27ms/step - loss: 0.4526 - accuracy: 0.1408 - val_loss: 0.4737 - val_accuracy: 0.1408\n",
            "Epoch 244/300\n",
            "20/20 [==============================] - 0s 18ms/step - loss: 0.4488 - accuracy: 0.1392 - val_loss: 0.4650 - val_accuracy: 0.1369\n",
            "Epoch 245/300\n",
            "20/20 [==============================] - 1s 27ms/step - loss: 0.4439 - accuracy: 0.1408 - val_loss: 0.4640 - val_accuracy: 0.1368\n",
            "Epoch 246/300\n",
            "20/20 [==============================] - 0s 15ms/step - loss: 0.4402 - accuracy: 0.1418 - val_loss: 0.4637 - val_accuracy: 0.1361\n",
            "Epoch 247/300\n",
            "20/20 [==============================] - 0s 23ms/step - loss: 0.4367 - accuracy: 0.1414 - val_loss: 0.4712 - val_accuracy: 0.1373\n",
            "Epoch 248/300\n",
            "20/20 [==============================] - 0s 14ms/step - loss: 0.4559 - accuracy: 0.1428 - val_loss: 0.4697 - val_accuracy: 0.1445\n",
            "Epoch 249/300\n",
            "20/20 [==============================] - 0s 18ms/step - loss: 0.4422 - accuracy: 0.1436 - val_loss: 0.4595 - val_accuracy: 0.1423\n",
            "Epoch 250/300\n",
            "20/20 [==============================] - 0s 19ms/step - loss: 0.4369 - accuracy: 0.1427 - val_loss: 0.4609 - val_accuracy: 0.1388\n",
            "Epoch 251/300\n",
            "20/20 [==============================] - 1s 29ms/step - loss: 0.4318 - accuracy: 0.1424 - val_loss: 0.4670 - val_accuracy: 0.1371\n",
            "Epoch 252/300\n",
            "20/20 [==============================] - 0s 18ms/step - loss: 0.4269 - accuracy: 0.1431 - val_loss: 0.4800 - val_accuracy: 0.1366\n",
            "Epoch 253/300\n",
            "20/20 [==============================] - 0s 21ms/step - loss: 0.4234 - accuracy: 0.1439 - val_loss: 0.4711 - val_accuracy: 0.1364\n",
            "Epoch 254/300\n",
            "20/20 [==============================] - 1s 49ms/step - loss: 0.4202 - accuracy: 0.1452 - val_loss: 0.4625 - val_accuracy: 0.1360\n",
            "Epoch 255/300\n",
            "20/20 [==============================] - 1s 53ms/step - loss: 0.4186 - accuracy: 0.1457 - val_loss: 0.4639 - val_accuracy: 0.1376\n",
            "Epoch 256/300\n",
            "20/20 [==============================] - 0s 15ms/step - loss: 0.4143 - accuracy: 0.1464 - val_loss: 0.4572 - val_accuracy: 0.1383\n",
            "Epoch 257/300\n",
            "20/20 [==============================] - 0s 15ms/step - loss: 0.4129 - accuracy: 0.1473 - val_loss: 0.4536 - val_accuracy: 0.1414\n",
            "Epoch 258/300\n",
            "20/20 [==============================] - 0s 15ms/step - loss: 0.4099 - accuracy: 0.1499 - val_loss: 0.4522 - val_accuracy: 0.1402\n",
            "Epoch 259/300\n",
            "20/20 [==============================] - 0s 19ms/step - loss: 0.4073 - accuracy: 0.1502 - val_loss: 0.4619 - val_accuracy: 0.1439\n",
            "Epoch 260/300\n",
            "20/20 [==============================] - 0s 16ms/step - loss: 0.4101 - accuracy: 0.1494 - val_loss: 0.4475 - val_accuracy: 0.1467\n",
            "Epoch 261/300\n",
            "20/20 [==============================] - 0s 26ms/step - loss: 0.4168 - accuracy: 0.1493 - val_loss: 0.4921 - val_accuracy: 0.1459\n",
            "Epoch 262/300\n",
            "20/20 [==============================] - 0s 15ms/step - loss: 0.4417 - accuracy: 0.1492 - val_loss: 0.6486 - val_accuracy: 0.1574\n",
            "Epoch 263/300\n",
            "20/20 [==============================] - 0s 26ms/step - loss: 0.4224 - accuracy: 0.1464 - val_loss: 0.4829 - val_accuracy: 0.1472\n",
            "Epoch 264/300\n",
            "20/20 [==============================] - 0s 18ms/step - loss: 0.4122 - accuracy: 0.1479 - val_loss: 0.4887 - val_accuracy: 0.1398\n",
            "Epoch 265/300\n",
            "20/20 [==============================] - 0s 15ms/step - loss: 0.4093 - accuracy: 0.1498 - val_loss: 0.4549 - val_accuracy: 0.1383\n",
            "Epoch 266/300\n",
            "20/20 [==============================] - 0s 18ms/step - loss: 0.4048 - accuracy: 0.1502 - val_loss: 0.4694 - val_accuracy: 0.1383\n",
            "Epoch 267/300\n",
            "20/20 [==============================] - 1s 56ms/step - loss: 0.4008 - accuracy: 0.1520 - val_loss: 0.4544 - val_accuracy: 0.1380\n",
            "Epoch 268/300\n",
            "20/20 [==============================] - 1s 47ms/step - loss: 0.4011 - accuracy: 0.1502 - val_loss: 0.4769 - val_accuracy: 0.1396\n",
            "Epoch 269/300\n",
            "20/20 [==============================] - 0s 15ms/step - loss: 0.4257 - accuracy: 0.1434 - val_loss: 0.4854 - val_accuracy: 0.1531\n",
            "Epoch 270/300\n",
            "20/20 [==============================] - 0s 19ms/step - loss: 0.4108 - accuracy: 0.1495 - val_loss: 0.4757 - val_accuracy: 0.1479\n",
            "Epoch 271/300\n",
            "20/20 [==============================] - 0s 18ms/step - loss: 0.4024 - accuracy: 0.1511 - val_loss: 0.4380 - val_accuracy: 0.1456\n",
            "Epoch 272/300\n",
            "20/20 [==============================] - 0s 20ms/step - loss: 0.3959 - accuracy: 0.1548 - val_loss: 0.4335 - val_accuracy: 0.1434\n",
            "Epoch 273/300\n",
            "20/20 [==============================] - 0s 18ms/step - loss: 0.3932 - accuracy: 0.1554 - val_loss: 0.4326 - val_accuracy: 0.1436\n",
            "Epoch 274/300\n",
            "20/20 [==============================] - 0s 14ms/step - loss: 0.4012 - accuracy: 0.1541 - val_loss: 0.5093 - val_accuracy: 0.1628\n",
            "Epoch 275/300\n",
            "20/20 [==============================] - 0s 18ms/step - loss: 0.4401 - accuracy: 0.1458 - val_loss: 1.1871 - val_accuracy: 0.1868\n",
            "Epoch 276/300\n",
            "20/20 [==============================] - 0s 25ms/step - loss: 0.4248 - accuracy: 0.1435 - val_loss: 1.3908 - val_accuracy: 0.1715\n",
            "Epoch 277/300\n",
            "20/20 [==============================] - 0s 15ms/step - loss: 0.4196 - accuracy: 0.1449 - val_loss: 0.5782 - val_accuracy: 0.1486\n",
            "Epoch 278/300\n",
            "20/20 [==============================] - 0s 20ms/step - loss: 0.4119 - accuracy: 0.1434 - val_loss: 0.5490 - val_accuracy: 0.1535\n",
            "Epoch 279/300\n",
            "20/20 [==============================] - 0s 15ms/step - loss: 0.4073 - accuracy: 0.1475 - val_loss: 0.4602 - val_accuracy: 0.1500\n",
            "Epoch 280/300\n",
            "20/20 [==============================] - 1s 28ms/step - loss: 0.4037 - accuracy: 0.1480 - val_loss: 0.4441 - val_accuracy: 0.1488\n",
            "Epoch 281/300\n",
            "20/20 [==============================] - 0s 18ms/step - loss: 0.3990 - accuracy: 0.1491 - val_loss: 0.4373 - val_accuracy: 0.1487\n",
            "Epoch 282/300\n",
            "20/20 [==============================] - 0s 23ms/step - loss: 0.3986 - accuracy: 0.1517 - val_loss: 0.4512 - val_accuracy: 0.1474\n",
            "Epoch 283/300\n",
            "20/20 [==============================] - 0s 16ms/step - loss: 0.3998 - accuracy: 0.1497 - val_loss: 0.4711 - val_accuracy: 0.1553\n",
            "Epoch 284/300\n",
            "20/20 [==============================] - 0s 23ms/step - loss: 0.3998 - accuracy: 0.1525 - val_loss: 0.4391 - val_accuracy: 0.1509\n",
            "Epoch 285/300\n",
            "20/20 [==============================] - 1s 48ms/step - loss: 0.3956 - accuracy: 0.1557 - val_loss: 0.4512 - val_accuracy: 0.1483\n",
            "Epoch 286/300\n",
            "20/20 [==============================] - 0s 18ms/step - loss: 0.4076 - accuracy: 0.1498 - val_loss: 0.4513 - val_accuracy: 0.1482\n",
            "Epoch 287/300\n",
            "20/20 [==============================] - 0s 17ms/step - loss: 0.3985 - accuracy: 0.1525 - val_loss: 0.4411 - val_accuracy: 0.1456\n",
            "Epoch 288/300\n",
            "20/20 [==============================] - 1s 32ms/step - loss: 0.4008 - accuracy: 0.1518 - val_loss: 0.4748 - val_accuracy: 0.1509\n",
            "Epoch 289/300\n",
            "20/20 [==============================] - 0s 19ms/step - loss: 0.3936 - accuracy: 0.1537 - val_loss: 0.4589 - val_accuracy: 0.1549\n",
            "Epoch 290/300\n",
            "20/20 [==============================] - 0s 19ms/step - loss: 0.3890 - accuracy: 0.1547 - val_loss: 0.4459 - val_accuracy: 0.1494\n",
            "Epoch 291/300\n",
            "20/20 [==============================] - 0s 19ms/step - loss: 0.3907 - accuracy: 0.1539 - val_loss: 0.4371 - val_accuracy: 0.1483\n",
            "Epoch 292/300\n",
            "20/20 [==============================] - 0s 15ms/step - loss: 0.4092 - accuracy: 0.1477 - val_loss: 0.4709 - val_accuracy: 0.1484\n",
            "Epoch 293/300\n",
            "20/20 [==============================] - 0s 18ms/step - loss: 0.4166 - accuracy: 0.1475 - val_loss: 0.4525 - val_accuracy: 0.1490\n",
            "Epoch 294/300\n",
            "20/20 [==============================] - 0s 19ms/step - loss: 0.4048 - accuracy: 0.1502 - val_loss: 0.4496 - val_accuracy: 0.1499\n",
            "Epoch 295/300\n",
            "20/20 [==============================] - 0s 19ms/step - loss: 0.4072 - accuracy: 0.1511 - val_loss: 1.6131 - val_accuracy: 0.2522\n",
            "Epoch 296/300\n",
            "20/20 [==============================] - 0s 24ms/step - loss: 0.4376 - accuracy: 0.1492 - val_loss: 1.1580 - val_accuracy: 0.2192\n",
            "Epoch 297/300\n",
            "20/20 [==============================] - 1s 48ms/step - loss: 0.4221 - accuracy: 0.1534 - val_loss: 0.5995 - val_accuracy: 0.1823\n",
            "Epoch 298/300\n",
            "20/20 [==============================] - 0s 19ms/step - loss: 0.4103 - accuracy: 0.1550 - val_loss: 0.4783 - val_accuracy: 0.1656\n",
            "Epoch 299/300\n",
            "20/20 [==============================] - 0s 19ms/step - loss: 0.4007 - accuracy: 0.1538 - val_loss: 0.4432 - val_accuracy: 0.1538\n",
            "Epoch 300/300\n",
            "20/20 [==============================] - 1s 29ms/step - loss: 0.3974 - accuracy: 0.1509 - val_loss: 0.4419 - val_accuracy: 0.1445\n"
          ]
        },
        {
          "data": {
            "text/plain": [
              "<keras.callbacks.History at 0x7f5ece4f5050>"
            ]
          },
          "execution_count": 282,
          "metadata": {},
          "output_type": "execute_result"
        }
      ],
      "source": [
        "unet_model_onehot.fit(x_train, y_onehot_train, batch_size=1, epochs=300, \n",
        "                 validation_data=(x_test, y_onehot_test), verbose=1,    ## validation_data = test_data, no early stopping\n",
        "                 callbacks=keras.callbacks.TensorBoard(log_dir=\"./logs\"))    ## log metrics in TensorBoard"
      ]
    },
    {
      "cell_type": "code",
      "execution_count": null,
      "metadata": {
        "colab": {
          "base_uri": "https://localhost:8080/",
          "height": 145
        },
        "id": "3UQoeRTTuJKL",
        "outputId": "0228f14e-86ab-40c2-a27b-3cc8bdda9cde"
      },
      "outputs": [
        {
          "data": {
            "image/png": "[encoded data removed]",
            "text/plain": [
              "<PIL.Image.Image image mode=L size=128x128 at 0x7F5EC960A150>"
            ]
          },
          "execution_count": 283,
          "metadata": {},
          "output_type": "execute_result"
        }
      ],
      "source": [
        "test_pred = unet_model_onehot.predict(x_test[0][tf.newaxis, ...])\n",
        "test_pred = np.reshape(test_pred,(128,128,1,2))\n",
        "b=tf.keras.utils.array_to_img(test_pred[:,:,:,1])\n",
        "b"
      ]
    },
    {
      "cell_type": "code",
      "execution_count": null,
      "metadata": {
        "colab": {
          "base_uri": "https://localhost:8080/",
          "height": 145
        },
        "id": "avTPTkBduLYo",
        "outputId": "829c1a46-fb0a-4359-f901-c61eb3d3e551"
      },
      "outputs": [
        {
          "data": {
            "image/png": "[encoded data removed]",
            "text/plain": [
              "<PIL.Image.Image image mode=L size=128x128 at 0x7F5DEE661990>"
            ]
          },
          "execution_count": 284,
          "metadata": {},
          "output_type": "execute_result"
        }
      ],
      "source": [
        "test_pred = unet_model_onehot.predict(x_test[0][tf.newaxis, ...])\n",
        "test_pred = np.reshape(test_pred,(128,128,1,2))\n",
        "y_classes = test_pred.argmax(axis=-1)\n",
        "# y_classes = np.reshape(y_classes,(128,128,1))\n",
        "b=tf.keras.utils.array_to_img(y_classes)\n",
        "b"
      ]
    },
    {
      "cell_type": "code",
      "execution_count": null,
      "metadata": {
        "colab": {
          "base_uri": "https://localhost:8080/"
        },
        "id": "kUE4cp6WIQaa",
        "outputId": "eb3a419c-d781-4b83-d58a-979ff9d5bddb"
      },
      "outputs": [
        {
          "data": {
            "text/plain": [
              "0.44775027"
            ]
          },
          "execution_count": 285,
          "metadata": {},
          "output_type": "execute_result"
        }
      ],
      "source": [
        "m = tf.keras.metrics.MeanIoU(num_classes=2)\n",
        "m.update_state(y_classes, y_test[0])\n",
        "m.result().numpy()"
      ]
    },
    {
      "cell_type": "code",
      "execution_count": null,
      "metadata": {
        "colab": {
          "base_uri": "https://localhost:8080/"
        },
        "id": "nwp4rG24uhRg",
        "outputId": "598053a0-df64-4cc9-8321-4f8141d1cb6e"
      },
      "outputs": [
        {
          "name": "stdout",
          "output_type": "stream",
          "text": [
            "INFO:tensorflow:Assets written to: unet_model_pb/assets\n"
          ]
        },
        {
          "name": "stderr",
          "output_type": "stream",
          "text": [
            "/usr/local/lib/python3.7/dist-packages/keras/utils/generic_utils.py:497: CustomMaskWarning: Custom mask layers require a config and must override get_config. When loading, the custom mask layer must be passed to the custom_objects argument.\n",
            "  category=CustomMaskWarning)\n"
          ]
        }
      ],
      "source": [
        "# Save the entire model\n",
        "\n",
        "## Define path to saved directory\n",
        "#save_dir = 'INSERT_PATH_TO_DIR'\n",
        "\n",
        "## Save using SavedModel format\n",
        "unet_model_onehot.save('unet_model_pb')\n",
        "\n",
        "## Save again using H5 format\n",
        "unet_model_onehot.save('unet_model_h5.h5', save_format='h5')"
      ]
    },
    {
      "cell_type": "code",
      "execution_count": null,
      "metadata": {
        "colab": {
          "base_uri": "https://localhost:8080/"
        },
        "id": "zgYl8_lsQLhh",
        "outputId": "9e64973f-72c9-4123-a77a-52abe1ecb5ec"
      },
      "outputs": [
        {
          "name": "stderr",
          "output_type": "stream",
          "text": [
            "/usr/local/lib/python3.7/dist-packages/keras/utils/generic_utils.py:497: CustomMaskWarning: Custom mask layers require a config and must override get_config. When loading, the custom mask layer must be passed to the custom_objects argument.\n",
            "  category=CustomMaskWarning)\n"
          ]
        },
        {
          "name": "stdout",
          "output_type": "stream",
          "text": [
            "Epoch 1/300\n",
            "20/20 [==============================] - 7s 243ms/step - loss: 4.1699 - accuracy: 0.3302 - val_loss: 5.0022 - val_accuracy: 0.2742\n",
            "Epoch 2/300\n",
            "20/20 [==============================] - 4s 198ms/step - loss: 2.2332 - accuracy: 0.2485 - val_loss: 4.1106 - val_accuracy: 0.2234\n",
            "Epoch 3/300\n",
            "20/20 [==============================] - 4s 227ms/step - loss: 1.7094 - accuracy: 0.2117 - val_loss: 5.8184 - val_accuracy: 0.3729\n",
            "Epoch 4/300\n",
            "20/20 [==============================] - 4s 181ms/step - loss: 1.2891 - accuracy: 0.1877 - val_loss: 5.9641 - val_accuracy: 0.3948\n",
            "Epoch 5/300\n",
            "20/20 [==============================] - 5s 231ms/step - loss: 1.0877 - accuracy: 0.1793 - val_loss: 4.9260 - val_accuracy: 0.3395\n",
            "Epoch 6/300\n",
            "20/20 [==============================] - 4s 206ms/step - loss: 0.9747 - accuracy: 0.1761 - val_loss: 2.9782 - val_accuracy: 0.1975\n",
            "Epoch 7/300\n",
            "20/20 [==============================] - 4s 201ms/step - loss: 0.8986 - accuracy: 0.1731 - val_loss: 0.9742 - val_accuracy: 0.0444\n",
            "Epoch 8/300\n",
            "20/20 [==============================] - 4s 198ms/step - loss: 0.8430 - accuracy: 0.1680 - val_loss: 0.7563 - val_accuracy: 0.0292\n",
            "Epoch 9/300\n",
            "20/20 [==============================] - 4s 206ms/step - loss: 0.8224 - accuracy: 0.1619 - val_loss: 0.7268 - val_accuracy: 0.0231\n",
            "Epoch 10/300\n",
            "20/20 [==============================] - 4s 222ms/step - loss: 0.8227 - accuracy: 0.1578 - val_loss: 0.7284 - val_accuracy: 0.0062\n",
            "Epoch 11/300\n",
            "20/20 [==============================] - 4s 183ms/step - loss: 0.7511 - accuracy: 0.1582 - val_loss: 0.6838 - val_accuracy: 0.0069\n",
            "Epoch 12/300\n",
            "20/20 [==============================] - 4s 229ms/step - loss: 0.7270 - accuracy: 0.1469 - val_loss: 0.6518 - val_accuracy: 0.0119\n",
            "Epoch 13/300\n",
            "20/20 [==============================] - 4s 210ms/step - loss: 0.7560 - accuracy: 0.1365 - val_loss: 0.7107 - val_accuracy: 0.1063\n",
            "Epoch 14/300\n",
            "20/20 [==============================] - 4s 185ms/step - loss: 0.6875 - accuracy: 0.1498 - val_loss: 0.6059 - val_accuracy: 0.1004\n",
            "Epoch 15/300\n",
            "20/20 [==============================] - 4s 180ms/step - loss: 0.6414 - accuracy: 0.1528 - val_loss: 0.5743 - val_accuracy: 0.0456\n",
            "Epoch 16/300\n",
            "20/20 [==============================] - 4s 196ms/step - loss: 0.6095 - accuracy: 0.1511 - val_loss: 0.5805 - val_accuracy: 0.0322\n",
            "Epoch 17/300\n",
            "20/20 [==============================] - 4s 195ms/step - loss: 0.5946 - accuracy: 0.1511 - val_loss: 0.5710 - val_accuracy: 0.0490\n",
            "Epoch 18/300\n",
            "20/20 [==============================] - 4s 186ms/step - loss: 0.5846 - accuracy: 0.1526 - val_loss: 0.5663 - val_accuracy: 0.0431\n",
            "Epoch 19/300\n",
            "20/20 [==============================] - 3s 167ms/step - loss: 0.5717 - accuracy: 0.1517 - val_loss: 0.5547 - val_accuracy: 0.0716\n",
            "Epoch 20/300\n",
            "20/20 [==============================] - 4s 197ms/step - loss: 0.5586 - accuracy: 0.1540 - val_loss: 0.5496 - val_accuracy: 0.0797\n",
            "Epoch 21/300\n",
            "20/20 [==============================] - 4s 214ms/step - loss: 0.5519 - accuracy: 0.1509 - val_loss: 0.5441 - val_accuracy: 0.0894\n",
            "Epoch 22/300\n",
            "20/20 [==============================] - 4s 222ms/step - loss: 0.5513 - accuracy: 0.1504 - val_loss: 0.5699 - val_accuracy: 0.0923\n",
            "Epoch 23/300\n",
            "20/20 [==============================] - 4s 192ms/step - loss: 0.5310 - accuracy: 0.1503 - val_loss: 0.5438 - val_accuracy: 0.1044\n",
            "Epoch 24/300\n",
            "20/20 [==============================] - 4s 219ms/step - loss: 0.5193 - accuracy: 0.1502 - val_loss: 0.5246 - val_accuracy: 0.1246\n",
            "Epoch 25/300\n",
            "20/20 [==============================] - 4s 216ms/step - loss: 0.5328 - accuracy: 0.1528 - val_loss: 0.5211 - val_accuracy: 0.1339\n",
            "Epoch 26/300\n",
            "20/20 [==============================] - 4s 215ms/step - loss: 0.4868 - accuracy: 0.1501 - val_loss: 0.5035 - val_accuracy: 0.1350\n",
            "Epoch 27/300\n",
            "20/20 [==============================] - 4s 223ms/step - loss: 0.4728 - accuracy: 0.1461 - val_loss: 0.4997 - val_accuracy: 0.1314\n",
            "Epoch 28/300\n",
            "20/20 [==============================] - 3s 174ms/step - loss: 0.4609 - accuracy: 0.1474 - val_loss: 0.4929 - val_accuracy: 0.1330\n",
            "Epoch 29/300\n",
            "20/20 [==============================] - 4s 206ms/step - loss: 0.4536 - accuracy: 0.1477 - val_loss: 0.4888 - val_accuracy: 0.1317\n",
            "Epoch 30/300\n",
            "20/20 [==============================] - 4s 205ms/step - loss: 0.4464 - accuracy: 0.1446 - val_loss: 0.5004 - val_accuracy: 0.1169\n",
            "Epoch 31/300\n",
            "20/20 [==============================] - 4s 221ms/step - loss: 0.4383 - accuracy: 0.1452 - val_loss: 0.4882 - val_accuracy: 0.1298\n",
            "Epoch 32/300\n",
            "20/20 [==============================] - 4s 178ms/step - loss: 0.4421 - accuracy: 0.1486 - val_loss: 0.4810 - val_accuracy: 0.1325\n",
            "Epoch 33/300\n",
            "20/20 [==============================] - 3s 172ms/step - loss: 0.4480 - accuracy: 0.1499 - val_loss: 0.4733 - val_accuracy: 0.1383\n",
            "Epoch 34/300\n",
            "20/20 [==============================] - 4s 187ms/step - loss: 0.4279 - accuracy: 0.1482 - val_loss: 0.4684 - val_accuracy: 0.1339\n",
            "Epoch 35/300\n",
            "20/20 [==============================] - 4s 214ms/step - loss: 0.4250 - accuracy: 0.1465 - val_loss: 0.8722 - val_accuracy: 0.1226\n",
            "Epoch 36/300\n",
            "20/20 [==============================] - 4s 183ms/step - loss: 0.4731 - accuracy: 0.1456 - val_loss: 0.9280 - val_accuracy: 0.1474\n",
            "Epoch 37/300\n",
            "20/20 [==============================] - 4s 220ms/step - loss: 0.4552 - accuracy: 0.1465 - val_loss: 0.4892 - val_accuracy: 0.1449\n",
            "Epoch 38/300\n",
            "20/20 [==============================] - 4s 213ms/step - loss: 0.4550 - accuracy: 0.1475 - val_loss: 0.5177 - val_accuracy: 0.1471\n",
            "Epoch 39/300\n",
            "20/20 [==============================] - 4s 191ms/step - loss: 0.4509 - accuracy: 0.1482 - val_loss: 0.4870 - val_accuracy: 0.1517\n",
            "Epoch 40/300\n",
            "20/20 [==============================] - 4s 226ms/step - loss: 0.4296 - accuracy: 0.1506 - val_loss: 0.4915 - val_accuracy: 0.1490\n",
            "Epoch 41/300\n",
            "20/20 [==============================] - 5s 241ms/step - loss: 0.4179 - accuracy: 0.1530 - val_loss: 0.4873 - val_accuracy: 0.1479\n",
            "Epoch 42/300\n",
            "20/20 [==============================] - 3s 166ms/step - loss: 0.4077 - accuracy: 0.1523 - val_loss: 0.5706 - val_accuracy: 0.1474\n",
            "Epoch 43/300\n",
            "20/20 [==============================] - 5s 271ms/step - loss: 0.4104 - accuracy: 0.1538 - val_loss: 0.5011 - val_accuracy: 0.1460\n",
            "Epoch 44/300\n",
            "20/20 [==============================] - 4s 212ms/step - loss: 0.4000 - accuracy: 0.1539 - val_loss: 0.5291 - val_accuracy: 0.1520\n",
            "Epoch 45/300\n",
            "20/20 [==============================] - 4s 225ms/step - loss: 0.3985 - accuracy: 0.1529 - val_loss: 0.5602 - val_accuracy: 0.1447\n",
            "Epoch 46/300\n",
            "20/20 [==============================] - 4s 209ms/step - loss: 0.3955 - accuracy: 0.1536 - val_loss: 0.8747 - val_accuracy: 0.1817\n",
            "Epoch 47/300\n",
            "20/20 [==============================] - 4s 229ms/step - loss: 0.3992 - accuracy: 0.1443 - val_loss: 0.5201 - val_accuracy: 0.1391\n",
            "Epoch 48/300\n",
            "20/20 [==============================] - 5s 236ms/step - loss: 0.3952 - accuracy: 0.1436 - val_loss: 0.5737 - val_accuracy: 0.1568\n",
            "Epoch 49/300\n",
            "20/20 [==============================] - 5s 246ms/step - loss: 0.3842 - accuracy: 0.1511 - val_loss: 0.4500 - val_accuracy: 0.1478\n",
            "Epoch 50/300\n",
            "20/20 [==============================] - 4s 194ms/step - loss: 0.3810 - accuracy: 0.1558 - val_loss: 0.4646 - val_accuracy: 0.1537\n",
            "Epoch 51/300\n",
            "20/20 [==============================] - 4s 215ms/step - loss: 0.3773 - accuracy: 0.1585 - val_loss: 0.4640 - val_accuracy: 0.1505\n",
            "Epoch 52/300\n",
            "20/20 [==============================] - 4s 208ms/step - loss: 0.3723 - accuracy: 0.1614 - val_loss: 0.4250 - val_accuracy: 0.1521\n",
            "Epoch 53/300\n",
            "20/20 [==============================] - 4s 181ms/step - loss: 0.3685 - accuracy: 0.1617 - val_loss: 0.4316 - val_accuracy: 0.1501\n",
            "Epoch 54/300\n",
            "20/20 [==============================] - 4s 215ms/step - loss: 0.3659 - accuracy: 0.1626 - val_loss: 0.4370 - val_accuracy: 0.1572\n",
            "Epoch 55/300\n",
            "20/20 [==============================] - 4s 194ms/step - loss: 0.4054 - accuracy: 0.1577 - val_loss: 0.6568 - val_accuracy: 0.1299\n",
            "Epoch 56/300\n",
            "20/20 [==============================] - 4s 197ms/step - loss: 0.4900 - accuracy: 0.1452 - val_loss: 0.6504 - val_accuracy: 0.1649\n",
            "Epoch 57/300\n",
            "20/20 [==============================] - 4s 189ms/step - loss: 0.4757 - accuracy: 0.1421 - val_loss: 0.5651 - val_accuracy: 0.1619\n",
            "Epoch 58/300\n",
            "20/20 [==============================] - 4s 219ms/step - loss: 0.4708 - accuracy: 0.1441 - val_loss: 0.5272 - val_accuracy: 0.1580\n",
            "Epoch 59/300\n",
            "20/20 [==============================] - 5s 240ms/step - loss: 0.4687 - accuracy: 0.1459 - val_loss: 0.5086 - val_accuracy: 0.1544\n",
            "Epoch 60/300\n",
            "20/20 [==============================] - 4s 212ms/step - loss: 0.4664 - accuracy: 0.1461 - val_loss: 0.5016 - val_accuracy: 0.1525\n",
            "Epoch 61/300\n",
            "20/20 [==============================] - 3s 167ms/step - loss: 0.4640 - accuracy: 0.1458 - val_loss: 0.4967 - val_accuracy: 0.1474\n",
            "Epoch 62/300\n",
            "20/20 [==============================] - 4s 205ms/step - loss: 0.4617 - accuracy: 0.1456 - val_loss: 0.4996 - val_accuracy: 0.1474\n",
            "Epoch 63/300\n",
            "20/20 [==============================] - 3s 176ms/step - loss: 0.4594 - accuracy: 0.1462 - val_loss: 0.5048 - val_accuracy: 0.1448\n",
            "Epoch 64/300\n",
            "20/20 [==============================] - 4s 216ms/step - loss: 0.4567 - accuracy: 0.1455 - val_loss: 0.5035 - val_accuracy: 0.1417\n",
            "Epoch 65/300\n",
            "20/20 [==============================] - 6s 287ms/step - loss: 0.4531 - accuracy: 0.1459 - val_loss: 0.4826 - val_accuracy: 0.1424\n",
            "Epoch 66/300\n",
            "20/20 [==============================] - 4s 201ms/step - loss: 0.4468 - accuracy: 0.1456 - val_loss: 0.4764 - val_accuracy: 0.1396\n",
            "Epoch 67/300\n",
            "20/20 [==============================] - 4s 193ms/step - loss: 0.4457 - accuracy: 0.1396 - val_loss: 0.4774 - val_accuracy: 0.1473\n",
            "Epoch 68/300\n",
            "20/20 [==============================] - 4s 192ms/step - loss: 0.4503 - accuracy: 0.1402 - val_loss: 0.5004 - val_accuracy: 0.1416\n",
            "Epoch 69/300\n",
            "20/20 [==============================] - 3s 174ms/step - loss: 0.4403 - accuracy: 0.1447 - val_loss: 0.4787 - val_accuracy: 0.1474\n",
            "Epoch 70/300\n",
            "20/20 [==============================] - 3s 174ms/step - loss: 0.4309 - accuracy: 0.1471 - val_loss: 0.4635 - val_accuracy: 0.1492\n",
            "Epoch 71/300\n",
            "20/20 [==============================] - 5s 258ms/step - loss: 0.4234 - accuracy: 0.1497 - val_loss: 0.4527 - val_accuracy: 0.1462\n",
            "Epoch 72/300\n",
            "20/20 [==============================] - 4s 197ms/step - loss: 0.4116 - accuracy: 0.1522 - val_loss: 0.4496 - val_accuracy: 0.1449\n",
            "Epoch 73/300\n",
            "20/20 [==============================] - 4s 188ms/step - loss: 0.4131 - accuracy: 0.1528 - val_loss: 0.4473 - val_accuracy: 0.1467\n",
            "Epoch 74/300\n",
            "20/20 [==============================] - 4s 185ms/step - loss: 0.4013 - accuracy: 0.1564 - val_loss: 0.4505 - val_accuracy: 0.1477\n",
            "Epoch 75/300\n",
            "20/20 [==============================] - 4s 186ms/step - loss: 0.3966 - accuracy: 0.1572 - val_loss: 0.4494 - val_accuracy: 0.1458\n",
            "Epoch 76/300\n",
            "20/20 [==============================] - 4s 214ms/step - loss: 0.4347 - accuracy: 0.1504 - val_loss: 0.8943 - val_accuracy: 0.1665\n",
            "Epoch 77/300\n",
            "20/20 [==============================] - 3s 174ms/step - loss: 0.4580 - accuracy: 0.1497 - val_loss: 0.6636 - val_accuracy: 0.1738\n",
            "Epoch 78/300\n",
            "20/20 [==============================] - 3s 174ms/step - loss: 0.4758 - accuracy: 0.1507 - val_loss: 0.5572 - val_accuracy: 0.1669\n",
            "Epoch 79/300\n",
            "20/20 [==============================] - 3s 172ms/step - loss: 0.4354 - accuracy: 0.1503 - val_loss: 0.4729 - val_accuracy: 0.1553\n",
            "Epoch 80/300\n",
            "20/20 [==============================] - 4s 206ms/step - loss: 0.4193 - accuracy: 0.1551 - val_loss: 0.4561 - val_accuracy: 0.1504\n",
            "Epoch 81/300\n",
            "20/20 [==============================] - 4s 213ms/step - loss: 0.4090 - accuracy: 0.1555 - val_loss: 0.4595 - val_accuracy: 0.1507\n",
            "Epoch 82/300\n",
            "20/20 [==============================] - 4s 188ms/step - loss: 0.4204 - accuracy: 0.1502 - val_loss: 0.5300 - val_accuracy: 0.1433\n",
            "Epoch 83/300\n",
            "20/20 [==============================] - 4s 182ms/step - loss: 0.4340 - accuracy: 0.1470 - val_loss: 0.4683 - val_accuracy: 0.1409\n",
            "Epoch 84/300\n",
            "20/20 [==============================] - 3s 176ms/step - loss: 0.4127 - accuracy: 0.1527 - val_loss: 0.4737 - val_accuracy: 0.1444\n",
            "Epoch 85/300\n",
            "20/20 [==============================] - 3s 168ms/step - loss: 0.4003 - accuracy: 0.1550 - val_loss: 0.4865 - val_accuracy: 0.1447\n",
            "Epoch 86/300\n",
            "20/20 [==============================] - 4s 187ms/step - loss: 0.3896 - accuracy: 0.1561 - val_loss: 0.4728 - val_accuracy: 0.1440\n",
            "Epoch 87/300\n",
            "20/20 [==============================] - 4s 180ms/step - loss: 0.4000 - accuracy: 0.1538 - val_loss: 0.4624 - val_accuracy: 0.1377\n",
            "Epoch 88/300\n",
            "20/20 [==============================] - 3s 166ms/step - loss: 0.4244 - accuracy: 0.1461 - val_loss: 0.4809 - val_accuracy: 0.1452\n",
            "Epoch 89/300\n",
            "20/20 [==============================] - 4s 201ms/step - loss: 0.4021 - accuracy: 0.1517 - val_loss: 0.4760 - val_accuracy: 0.1478\n",
            "Epoch 90/300\n",
            "20/20 [==============================] - 4s 186ms/step - loss: 0.3943 - accuracy: 0.1582 - val_loss: 0.4574 - val_accuracy: 0.1495\n",
            "Epoch 91/300\n",
            "20/20 [==============================] - 4s 210ms/step - loss: 0.3852 - accuracy: 0.1581 - val_loss: 0.4562 - val_accuracy: 0.1522\n",
            "Epoch 92/300\n",
            "20/20 [==============================] - 4s 212ms/step - loss: 0.4575 - accuracy: 0.1469 - val_loss: 0.6397 - val_accuracy: 0.1463\n",
            "Epoch 93/300\n",
            "20/20 [==============================] - 5s 238ms/step - loss: 0.4670 - accuracy: 0.1436 - val_loss: 0.6027 - val_accuracy: 0.1591\n",
            "Epoch 94/300\n",
            "20/20 [==============================] - 5s 260ms/step - loss: 0.4536 - accuracy: 0.1456 - val_loss: 0.5191 - val_accuracy: 0.1573\n",
            "Epoch 95/300\n",
            "20/20 [==============================] - 5s 243ms/step - loss: 0.4330 - accuracy: 0.1472 - val_loss: 0.5260 - val_accuracy: 0.1566\n",
            "Epoch 96/300\n",
            "20/20 [==============================] - 4s 209ms/step - loss: 0.4506 - accuracy: 0.1397 - val_loss: 0.4951 - val_accuracy: 0.1611\n",
            "Epoch 97/300\n",
            "20/20 [==============================] - 4s 180ms/step - loss: 0.4099 - accuracy: 0.1491 - val_loss: 0.4689 - val_accuracy: 0.1536\n",
            "Epoch 98/300\n",
            "20/20 [==============================] - 4s 213ms/step - loss: 0.3963 - accuracy: 0.1540 - val_loss: 0.4861 - val_accuracy: 0.1535\n",
            "Epoch 99/300\n",
            "20/20 [==============================] - 3s 174ms/step - loss: 0.3836 - accuracy: 0.1542 - val_loss: 0.5300 - val_accuracy: 0.1572\n",
            "Epoch 100/300\n",
            "20/20 [==============================] - 4s 211ms/step - loss: 0.3847 - accuracy: 0.1564 - val_loss: 0.5947 - val_accuracy: 0.1562\n",
            "Epoch 101/300\n",
            "20/20 [==============================] - 4s 226ms/step - loss: 0.3816 - accuracy: 0.1575 - val_loss: 0.5242 - val_accuracy: 0.1557\n",
            "Epoch 102/300\n",
            "20/20 [==============================] - 4s 201ms/step - loss: 0.3747 - accuracy: 0.1601 - val_loss: 0.5021 - val_accuracy: 0.1557\n",
            "Epoch 103/300\n",
            "20/20 [==============================] - 5s 251ms/step - loss: 0.3684 - accuracy: 0.1618 - val_loss: 0.4743 - val_accuracy: 0.1523\n",
            "Epoch 104/300\n",
            "20/20 [==============================] - 3s 174ms/step - loss: 0.3640 - accuracy: 0.1601 - val_loss: 0.5025 - val_accuracy: 0.1547\n",
            "Epoch 105/300\n",
            "20/20 [==============================] - 5s 234ms/step - loss: 0.3602 - accuracy: 0.1614 - val_loss: 0.5216 - val_accuracy: 0.1621\n",
            "Epoch 106/300\n",
            "20/20 [==============================] - 3s 174ms/step - loss: 0.3612 - accuracy: 0.1619 - val_loss: 0.5153 - val_accuracy: 0.1542\n",
            "Epoch 107/300\n",
            "20/20 [==============================] - 4s 227ms/step - loss: 0.3557 - accuracy: 0.1630 - val_loss: 0.5743 - val_accuracy: 0.1708\n",
            "Epoch 108/300\n",
            "20/20 [==============================] - 5s 234ms/step - loss: 0.3509 - accuracy: 0.1664 - val_loss: 0.9136 - val_accuracy: 0.1911\n",
            "Epoch 109/300\n",
            "20/20 [==============================] - 4s 181ms/step - loss: 0.3534 - accuracy: 0.1664 - val_loss: 0.5054 - val_accuracy: 0.1754\n",
            "Epoch 110/300\n",
            "20/20 [==============================] - 4s 212ms/step - loss: 0.3700 - accuracy: 0.1694 - val_loss: 1.0368 - val_accuracy: 0.2142\n",
            "Epoch 111/300\n",
            "20/20 [==============================] - 5s 237ms/step - loss: 0.3786 - accuracy: 0.1709 - val_loss: 0.7380 - val_accuracy: 0.2037\n",
            "Epoch 112/300\n",
            "20/20 [==============================] - 3s 173ms/step - loss: 0.3598 - accuracy: 0.1701 - val_loss: 0.5859 - val_accuracy: 0.1965\n",
            "Epoch 113/300\n",
            "20/20 [==============================] - 4s 210ms/step - loss: 0.3545 - accuracy: 0.1718 - val_loss: 0.5433 - val_accuracy: 0.1921\n",
            "Epoch 114/300\n",
            "20/20 [==============================] - 4s 221ms/step - loss: 0.3471 - accuracy: 0.1701 - val_loss: 0.5378 - val_accuracy: 0.1882\n",
            "Epoch 115/300\n",
            "20/20 [==============================] - 3s 174ms/step - loss: 0.3436 - accuracy: 0.1732 - val_loss: 0.5300 - val_accuracy: 0.1885\n",
            "Epoch 116/300\n",
            "20/20 [==============================] - 5s 230ms/step - loss: 0.3383 - accuracy: 0.1726 - val_loss: 0.6994 - val_accuracy: 0.1945\n",
            "Epoch 117/300\n",
            "20/20 [==============================] - 4s 215ms/step - loss: 0.3397 - accuracy: 0.1726 - val_loss: 0.6054 - val_accuracy: 0.1941\n",
            "Epoch 118/300\n",
            "20/20 [==============================] - 4s 215ms/step - loss: 0.3365 - accuracy: 0.1718 - val_loss: 0.5820 - val_accuracy: 0.1870\n",
            "Epoch 119/300\n",
            "20/20 [==============================] - 5s 236ms/step - loss: 0.3549 - accuracy: 0.1638 - val_loss: 0.4965 - val_accuracy: 0.1477\n",
            "Epoch 120/300\n",
            "20/20 [==============================] - 4s 223ms/step - loss: 0.4273 - accuracy: 0.1501 - val_loss: 0.5396 - val_accuracy: 0.1476\n",
            "Epoch 121/300\n",
            "20/20 [==============================] - 4s 187ms/step - loss: 0.3811 - accuracy: 0.1544 - val_loss: 0.4529 - val_accuracy: 0.1483\n",
            "Epoch 122/300\n",
            "20/20 [==============================] - 4s 226ms/step - loss: 0.3661 - accuracy: 0.1610 - val_loss: 0.4374 - val_accuracy: 0.1511\n",
            "Epoch 123/300\n",
            "20/20 [==============================] - 4s 206ms/step - loss: 0.3698 - accuracy: 0.1598 - val_loss: 0.5011 - val_accuracy: 0.1432\n",
            "Epoch 124/300\n",
            "20/20 [==============================] - 4s 204ms/step - loss: 0.3636 - accuracy: 0.1627 - val_loss: 0.4218 - val_accuracy: 0.1480\n",
            "Epoch 125/300\n",
            "20/20 [==============================] - 4s 209ms/step - loss: 0.3592 - accuracy: 0.1618 - val_loss: 0.5072 - val_accuracy: 0.1492\n",
            "Epoch 126/300\n",
            "20/20 [==============================] - 3s 168ms/step - loss: 0.3633 - accuracy: 0.1669 - val_loss: 0.4541 - val_accuracy: 0.1503\n",
            "Epoch 127/300\n",
            "20/20 [==============================] - 4s 200ms/step - loss: 0.3471 - accuracy: 0.1651 - val_loss: 0.4205 - val_accuracy: 0.1529\n",
            "Epoch 128/300\n",
            "20/20 [==============================] - 4s 214ms/step - loss: 0.3437 - accuracy: 0.1684 - val_loss: 0.4057 - val_accuracy: 0.1517\n",
            "Epoch 129/300\n",
            "20/20 [==============================] - 4s 213ms/step - loss: 0.3409 - accuracy: 0.1706 - val_loss: 0.4118 - val_accuracy: 0.1602\n",
            "Epoch 130/300\n",
            "20/20 [==============================] - 4s 199ms/step - loss: 0.3467 - accuracy: 0.1695 - val_loss: 0.4593 - val_accuracy: 0.1512\n",
            "Epoch 131/300\n",
            "20/20 [==============================] - 4s 192ms/step - loss: 0.3385 - accuracy: 0.1704 - val_loss: 0.3887 - val_accuracy: 0.1581\n",
            "Epoch 132/300\n",
            "20/20 [==============================] - 5s 233ms/step - loss: 0.3345 - accuracy: 0.1722 - val_loss: 0.4036 - val_accuracy: 0.1627\n",
            "Epoch 133/300\n",
            "20/20 [==============================] - 4s 199ms/step - loss: 0.3305 - accuracy: 0.1738 - val_loss: 0.4464 - val_accuracy: 0.1618\n",
            "Epoch 134/300\n",
            "20/20 [==============================] - 4s 207ms/step - loss: 0.3470 - accuracy: 0.1675 - val_loss: 0.6993 - val_accuracy: 0.1386\n",
            "Epoch 135/300\n",
            "20/20 [==============================] - 4s 211ms/step - loss: 0.3974 - accuracy: 0.1539 - val_loss: 0.6313 - val_accuracy: 0.1487\n",
            "Epoch 136/300\n",
            "20/20 [==============================] - 4s 182ms/step - loss: 0.3585 - accuracy: 0.1566 - val_loss: 0.5326 - val_accuracy: 0.1472\n",
            "Epoch 137/300\n",
            "20/20 [==============================] - 5s 252ms/step - loss: 0.3486 - accuracy: 0.1618 - val_loss: 0.4642 - val_accuracy: 0.1660\n",
            "Epoch 138/300\n",
            "20/20 [==============================] - 5s 253ms/step - loss: 0.3405 - accuracy: 0.1658 - val_loss: 0.4211 - val_accuracy: 0.1630\n",
            "Epoch 139/300\n",
            "20/20 [==============================] - 4s 219ms/step - loss: 0.3382 - accuracy: 0.1672 - val_loss: 0.4265 - val_accuracy: 0.1677\n",
            "Epoch 140/300\n",
            "20/20 [==============================] - 5s 242ms/step - loss: 0.3340 - accuracy: 0.1682 - val_loss: 0.4340 - val_accuracy: 0.1706\n",
            "Epoch 141/300\n",
            "20/20 [==============================] - 4s 210ms/step - loss: 0.3320 - accuracy: 0.1688 - val_loss: 0.4123 - val_accuracy: 0.1738\n",
            "Epoch 142/300\n",
            "20/20 [==============================] - 3s 168ms/step - loss: 0.3271 - accuracy: 0.1718 - val_loss: 0.4009 - val_accuracy: 0.1766\n",
            "Epoch 143/300\n",
            "20/20 [==============================] - 4s 224ms/step - loss: 0.3265 - accuracy: 0.1720 - val_loss: 0.4056 - val_accuracy: 0.1792\n",
            "Epoch 144/300\n",
            "20/20 [==============================] - 4s 195ms/step - loss: 0.3287 - accuracy: 0.1735 - val_loss: 0.4335 - val_accuracy: 0.1771\n",
            "Epoch 145/300\n",
            "20/20 [==============================] - 4s 183ms/step - loss: 0.3270 - accuracy: 0.1740 - val_loss: 0.4073 - val_accuracy: 0.1721\n",
            "Epoch 146/300\n",
            "20/20 [==============================] - 4s 188ms/step - loss: 0.3234 - accuracy: 0.1720 - val_loss: 0.4317 - val_accuracy: 0.1582\n",
            "Epoch 147/300\n",
            "20/20 [==============================] - 5s 262ms/step - loss: 0.3216 - accuracy: 0.1753 - val_loss: 0.4286 - val_accuracy: 0.1646\n",
            "Epoch 148/300\n",
            "20/20 [==============================] - 4s 202ms/step - loss: 0.3189 - accuracy: 0.1769 - val_loss: 0.4319 - val_accuracy: 0.1714\n",
            "Epoch 149/300\n",
            "20/20 [==============================] - 3s 166ms/step - loss: 0.3147 - accuracy: 0.1810 - val_loss: 0.4116 - val_accuracy: 0.1778\n",
            "Epoch 150/300\n",
            "20/20 [==============================] - 4s 194ms/step - loss: 0.3219 - accuracy: 0.1789 - val_loss: 0.4536 - val_accuracy: 0.1651\n",
            "Epoch 151/300\n",
            "20/20 [==============================] - 3s 172ms/step - loss: 0.3204 - accuracy: 0.1779 - val_loss: 0.4099 - val_accuracy: 0.1764\n",
            "Epoch 152/300\n",
            "20/20 [==============================] - 4s 221ms/step - loss: 0.3140 - accuracy: 0.1792 - val_loss: 3.3098 - val_accuracy: 0.2494\n",
            "Epoch 153/300\n",
            "20/20 [==============================] - 4s 229ms/step - loss: 0.4004 - accuracy: 0.1581 - val_loss: 0.5465 - val_accuracy: 0.1728\n",
            "Epoch 154/300\n",
            "20/20 [==============================] - 4s 220ms/step - loss: 0.3678 - accuracy: 0.1651 - val_loss: 0.5076 - val_accuracy: 0.1933\n",
            "Epoch 155/300\n",
            "20/20 [==============================] - 4s 192ms/step - loss: 0.3420 - accuracy: 0.1704 - val_loss: 0.5019 - val_accuracy: 0.1927\n",
            "Epoch 156/300\n",
            "20/20 [==============================] - 4s 185ms/step - loss: 0.3646 - accuracy: 0.1564 - val_loss: 1.0444 - val_accuracy: 0.2226\n",
            "Epoch 157/300\n",
            "20/20 [==============================] - 5s 263ms/step - loss: 0.3407 - accuracy: 0.1726 - val_loss: 0.4744 - val_accuracy: 0.1651\n",
            "Epoch 158/300\n",
            "20/20 [==============================] - 4s 209ms/step - loss: 0.3357 - accuracy: 0.1703 - val_loss: 0.4485 - val_accuracy: 0.1599\n",
            "Epoch 159/300\n",
            "20/20 [==============================] - 4s 222ms/step - loss: 0.3276 - accuracy: 0.1768 - val_loss: 0.4180 - val_accuracy: 0.1617\n",
            "Epoch 160/300\n",
            "20/20 [==============================] - 4s 204ms/step - loss: 0.3229 - accuracy: 0.1748 - val_loss: 0.4013 - val_accuracy: 0.1613\n",
            "Epoch 161/300\n",
            "20/20 [==============================] - 4s 191ms/step - loss: 0.3191 - accuracy: 0.1775 - val_loss: 0.4354 - val_accuracy: 0.1576\n",
            "Epoch 162/300\n",
            "20/20 [==============================] - 4s 177ms/step - loss: 0.3201 - accuracy: 0.1768 - val_loss: 0.4295 - val_accuracy: 0.1628\n",
            "Epoch 163/300\n",
            "20/20 [==============================] - 4s 199ms/step - loss: 0.3190 - accuracy: 0.1820 - val_loss: 0.5155 - val_accuracy: 0.1632\n",
            "Epoch 164/300\n",
            "20/20 [==============================] - 4s 196ms/step - loss: 0.3176 - accuracy: 0.1805 - val_loss: 0.8055 - val_accuracy: 0.1761\n",
            "Epoch 165/300\n",
            "20/20 [==============================] - 5s 260ms/step - loss: 0.3170 - accuracy: 0.1816 - val_loss: 0.3860 - val_accuracy: 0.1569\n",
            "Epoch 166/300\n",
            "20/20 [==============================] - 5s 251ms/step - loss: 0.3117 - accuracy: 0.1824 - val_loss: 0.3946 - val_accuracy: 0.1533\n",
            "Epoch 167/300\n",
            "20/20 [==============================] - 6s 299ms/step - loss: 0.3091 - accuracy: 0.1820 - val_loss: 0.3878 - val_accuracy: 0.1569\n",
            "Epoch 168/300\n",
            "20/20 [==============================] - 4s 205ms/step - loss: 0.3087 - accuracy: 0.1835 - val_loss: 0.4284 - val_accuracy: 0.1505\n",
            "Epoch 169/300\n",
            "20/20 [==============================] - 4s 214ms/step - loss: 0.3075 - accuracy: 0.1832 - val_loss: 0.3919 - val_accuracy: 0.1636\n",
            "Epoch 170/300\n",
            "20/20 [==============================] - 3s 175ms/step - loss: 0.3160 - accuracy: 0.1777 - val_loss: 0.4541 - val_accuracy: 0.1871\n",
            "Epoch 171/300\n",
            "20/20 [==============================] - 3s 175ms/step - loss: 0.3321 - accuracy: 0.1789 - val_loss: 0.5669 - val_accuracy: 0.1920\n",
            "Epoch 172/300\n",
            "20/20 [==============================] - 4s 184ms/step - loss: 0.3431 - accuracy: 0.1648 - val_loss: 0.5931 - val_accuracy: 0.1702\n",
            "Epoch 173/300\n",
            "20/20 [==============================] - 4s 205ms/step - loss: 0.3260 - accuracy: 0.1757 - val_loss: 0.4996 - val_accuracy: 0.1743\n",
            "Epoch 174/300\n",
            "20/20 [==============================] - 5s 236ms/step - loss: 0.3274 - accuracy: 0.1731 - val_loss: 0.4402 - val_accuracy: 0.1776\n",
            "Epoch 175/300\n",
            "20/20 [==============================] - 3s 171ms/step - loss: 0.3458 - accuracy: 0.1616 - val_loss: 0.4019 - val_accuracy: 0.1474\n",
            "Epoch 176/300\n",
            "20/20 [==============================] - 4s 224ms/step - loss: 0.3336 - accuracy: 0.1725 - val_loss: 0.4060 - val_accuracy: 0.1611\n",
            "Epoch 177/300\n",
            "20/20 [==============================] - 4s 180ms/step - loss: 0.3168 - accuracy: 0.1770 - val_loss: 0.4348 - val_accuracy: 0.1761\n",
            "Epoch 178/300\n",
            "20/20 [==============================] - 5s 241ms/step - loss: 0.3191 - accuracy: 0.1624 - val_loss: 0.6366 - val_accuracy: 0.1890\n",
            "Epoch 179/300\n",
            "20/20 [==============================] - 4s 228ms/step - loss: 0.4838 - accuracy: 0.1348 - val_loss: 2.9856 - val_accuracy: 0.3466\n",
            "Epoch 180/300\n",
            "20/20 [==============================] - 3s 169ms/step - loss: 0.5332 - accuracy: 0.1216 - val_loss: 4.6879 - val_accuracy: 0.4557\n",
            "Epoch 181/300\n",
            "20/20 [==============================] - 4s 179ms/step - loss: 0.4790 - accuracy: 0.1273 - val_loss: 3.7667 - val_accuracy: 0.3969\n",
            "Epoch 182/300\n",
            "20/20 [==============================] - 4s 214ms/step - loss: 0.4712 - accuracy: 0.1411 - val_loss: 1.5394 - val_accuracy: 0.2362\n",
            "Epoch 183/300\n",
            "20/20 [==============================] - 4s 203ms/step - loss: 0.4686 - accuracy: 0.1382 - val_loss: 0.8340 - val_accuracy: 0.1800\n",
            "Epoch 184/300\n",
            "20/20 [==============================] - 5s 231ms/step - loss: 0.4653 - accuracy: 0.1403 - val_loss: 0.6774 - val_accuracy: 0.1683\n",
            "Epoch 185/300\n",
            "20/20 [==============================] - 4s 204ms/step - loss: 0.4592 - accuracy: 0.1373 - val_loss: 0.6759 - val_accuracy: 0.1689\n",
            "Epoch 186/300\n",
            "20/20 [==============================] - 3s 171ms/step - loss: 0.4550 - accuracy: 0.1313 - val_loss: 0.6155 - val_accuracy: 0.1638\n",
            "Epoch 187/300\n",
            "20/20 [==============================] - 4s 187ms/step - loss: 0.4410 - accuracy: 0.1368 - val_loss: 0.5584 - val_accuracy: 0.1550\n",
            "Epoch 188/300\n",
            "20/20 [==============================] - 4s 226ms/step - loss: 0.4280 - accuracy: 0.1444 - val_loss: 0.5357 - val_accuracy: 0.1486\n",
            "Epoch 189/300\n",
            "20/20 [==============================] - 4s 199ms/step - loss: 0.4292 - accuracy: 0.1476 - val_loss: 0.5356 - val_accuracy: 0.1448\n",
            "Epoch 190/300\n",
            "20/20 [==============================] - 5s 236ms/step - loss: 0.4096 - accuracy: 0.1515 - val_loss: 0.4848 - val_accuracy: 0.1413\n",
            "Epoch 191/300\n",
            "20/20 [==============================] - 4s 189ms/step - loss: 0.4034 - accuracy: 0.1508 - val_loss: 0.4794 - val_accuracy: 0.1460\n",
            "Epoch 192/300\n",
            "20/20 [==============================] - 5s 270ms/step - loss: 0.4222 - accuracy: 0.1337 - val_loss: 0.4771 - val_accuracy: 0.1324\n",
            "Epoch 193/300\n",
            "20/20 [==============================] - 5s 271ms/step - loss: 0.4060 - accuracy: 0.1493 - val_loss: 0.4840 - val_accuracy: 0.1323\n",
            "Epoch 194/300\n",
            "20/20 [==============================] - 4s 186ms/step - loss: 0.3922 - accuracy: 0.1543 - val_loss: 0.4597 - val_accuracy: 0.1358\n",
            "Epoch 195/300\n",
            "20/20 [==============================] - 3s 170ms/step - loss: 0.3844 - accuracy: 0.1580 - val_loss: 0.4484 - val_accuracy: 0.1375\n",
            "Epoch 196/300\n",
            "20/20 [==============================] - 4s 213ms/step - loss: 0.3814 - accuracy: 0.1608 - val_loss: 0.4695 - val_accuracy: 0.1393\n",
            "Epoch 197/300\n",
            "20/20 [==============================] - 5s 239ms/step - loss: 0.3776 - accuracy: 0.1568 - val_loss: 0.4380 - val_accuracy: 0.1408\n",
            "Epoch 198/300\n",
            "20/20 [==============================] - 4s 201ms/step - loss: 0.4097 - accuracy: 0.1483 - val_loss: 0.5115 - val_accuracy: 0.1386\n",
            "Epoch 199/300\n",
            "20/20 [==============================] - 4s 183ms/step - loss: 0.4111 - accuracy: 0.1488 - val_loss: 0.5381 - val_accuracy: 0.1413\n",
            "Epoch 200/300\n",
            "20/20 [==============================] - 5s 257ms/step - loss: 0.4008 - accuracy: 0.1568 - val_loss: 0.6364 - val_accuracy: 0.1328\n",
            "Epoch 201/300\n",
            "20/20 [==============================] - 5s 244ms/step - loss: 0.3870 - accuracy: 0.1602 - val_loss: 0.5181 - val_accuracy: 0.1257\n",
            "Epoch 202/300\n",
            "20/20 [==============================] - 3s 177ms/step - loss: 0.3778 - accuracy: 0.1616 - val_loss: 0.5957 - val_accuracy: 0.1135\n",
            "Epoch 203/300\n",
            "20/20 [==============================] - 4s 207ms/step - loss: 0.4666 - accuracy: 0.1298 - val_loss: 2.3835 - val_accuracy: 0.2152\n",
            "Epoch 204/300\n",
            "20/20 [==============================] - 5s 243ms/step - loss: 0.4924 - accuracy: 0.1206 - val_loss: 1.8460 - val_accuracy: 0.2833\n",
            "Epoch 205/300\n",
            "20/20 [==============================] - 4s 205ms/step - loss: 0.5267 - accuracy: 0.1189 - val_loss: 1.2585 - val_accuracy: 0.2303\n",
            "Epoch 206/300\n",
            "20/20 [==============================] - 4s 201ms/step - loss: 0.4887 - accuracy: 0.1329 - val_loss: 0.7004 - val_accuracy: 0.1733\n",
            "Epoch 207/300\n",
            "20/20 [==============================] - 4s 178ms/step - loss: 0.4739 - accuracy: 0.1380 - val_loss: 0.5433 - val_accuracy: 0.1559\n",
            "Epoch 208/300\n",
            "20/20 [==============================] - 4s 195ms/step - loss: 0.4660 - accuracy: 0.1422 - val_loss: 0.5066 - val_accuracy: 0.1503\n",
            "Epoch 209/300\n",
            "20/20 [==============================] - 4s 195ms/step - loss: 0.4640 - accuracy: 0.1429 - val_loss: 0.4948 - val_accuracy: 0.1483\n",
            "Epoch 210/300\n",
            "20/20 [==============================] - 4s 177ms/step - loss: 0.4609 - accuracy: 0.1428 - val_loss: 0.4865 - val_accuracy: 0.1461\n",
            "Epoch 211/300\n",
            "20/20 [==============================] - 4s 218ms/step - loss: 0.4589 - accuracy: 0.1443 - val_loss: 0.4830 - val_accuracy: 0.1445\n",
            "Epoch 212/300\n",
            "20/20 [==============================] - 5s 249ms/step - loss: 0.4564 - accuracy: 0.1446 - val_loss: 0.4802 - val_accuracy: 0.1439\n",
            "Epoch 213/300\n",
            "20/20 [==============================] - 4s 218ms/step - loss: 0.4536 - accuracy: 0.1440 - val_loss: 0.4796 - val_accuracy: 0.1420\n",
            "Epoch 214/300\n",
            "20/20 [==============================] - 4s 197ms/step - loss: 0.4514 - accuracy: 0.1444 - val_loss: 0.4753 - val_accuracy: 0.1420\n",
            "Epoch 215/300\n",
            "20/20 [==============================] - 4s 178ms/step - loss: 0.4468 - accuracy: 0.1456 - val_loss: 0.4747 - val_accuracy: 0.1414\n",
            "Epoch 216/300\n",
            "20/20 [==============================] - 4s 208ms/step - loss: 0.4463 - accuracy: 0.1409 - val_loss: 0.4767 - val_accuracy: 0.1395\n",
            "Epoch 217/300\n",
            "20/20 [==============================] - 5s 236ms/step - loss: 0.4402 - accuracy: 0.1431 - val_loss: 0.4793 - val_accuracy: 0.1327\n",
            "Epoch 218/300\n",
            "20/20 [==============================] - 4s 204ms/step - loss: 0.4339 - accuracy: 0.1444 - val_loss: 0.4764 - val_accuracy: 0.1318\n",
            "Epoch 219/300\n",
            "20/20 [==============================] - 4s 191ms/step - loss: 0.4267 - accuracy: 0.1455 - val_loss: 0.4747 - val_accuracy: 0.1321\n",
            "Epoch 220/300\n",
            "20/20 [==============================] - 4s 189ms/step - loss: 0.4181 - accuracy: 0.1496 - val_loss: 0.4702 - val_accuracy: 0.1325\n",
            "Epoch 221/300\n",
            "20/20 [==============================] - 4s 228ms/step - loss: 0.4117 - accuracy: 0.1535 - val_loss: 0.4677 - val_accuracy: 0.1357\n",
            "Epoch 222/300\n",
            "20/20 [==============================] - 4s 218ms/step - loss: 0.4058 - accuracy: 0.1552 - val_loss: 0.4675 - val_accuracy: 0.1372\n",
            "Epoch 223/300\n",
            "20/20 [==============================] - 4s 215ms/step - loss: 0.4027 - accuracy: 0.1558 - val_loss: 0.4697 - val_accuracy: 0.1416\n",
            "Epoch 224/300\n",
            "20/20 [==============================] - 4s 206ms/step - loss: 0.3965 - accuracy: 0.1590 - val_loss: 0.4638 - val_accuracy: 0.1388\n",
            "Epoch 225/300\n",
            "20/20 [==============================] - 4s 212ms/step - loss: 0.3914 - accuracy: 0.1593 - val_loss: 0.4728 - val_accuracy: 0.1406\n",
            "Epoch 226/300\n",
            "20/20 [==============================] - 3s 169ms/step - loss: 0.3878 - accuracy: 0.1621 - val_loss: 0.4794 - val_accuracy: 0.1388\n",
            "Epoch 227/300\n",
            "20/20 [==============================] - 5s 233ms/step - loss: 0.3964 - accuracy: 0.1570 - val_loss: 0.5237 - val_accuracy: 0.1538\n",
            "Epoch 228/300\n",
            "20/20 [==============================] - 4s 184ms/step - loss: 0.3815 - accuracy: 0.1614 - val_loss: 0.4715 - val_accuracy: 0.1486\n",
            "Epoch 229/300\n",
            "20/20 [==============================] - 4s 207ms/step - loss: 0.3762 - accuracy: 0.1639 - val_loss: 0.4794 - val_accuracy: 0.1497\n",
            "Epoch 230/300\n",
            "20/20 [==============================] - 4s 218ms/step - loss: 0.3729 - accuracy: 0.1621 - val_loss: 0.5060 - val_accuracy: 0.1479\n",
            "Epoch 231/300\n",
            "20/20 [==============================] - 4s 200ms/step - loss: 0.3686 - accuracy: 0.1638 - val_loss: 0.4516 - val_accuracy: 0.1557\n",
            "Epoch 232/300\n",
            "20/20 [==============================] - 5s 236ms/step - loss: 0.3664 - accuracy: 0.1671 - val_loss: 0.4550 - val_accuracy: 0.1549\n",
            "Epoch 233/300\n",
            "20/20 [==============================] - 4s 203ms/step - loss: 0.3651 - accuracy: 0.1692 - val_loss: 0.4621 - val_accuracy: 0.1541\n",
            "Epoch 234/300\n",
            "20/20 [==============================] - 4s 191ms/step - loss: 0.3627 - accuracy: 0.1685 - val_loss: 0.4702 - val_accuracy: 0.1583\n",
            "Epoch 235/300\n",
            "20/20 [==============================] - 4s 177ms/step - loss: 0.3597 - accuracy: 0.1717 - val_loss: 0.4458 - val_accuracy: 0.1560\n",
            "Epoch 236/300\n",
            "20/20 [==============================] - 4s 183ms/step - loss: 0.3671 - accuracy: 0.1646 - val_loss: 0.4407 - val_accuracy: 0.1623\n",
            "Epoch 237/300\n",
            "20/20 [==============================] - 6s 283ms/step - loss: 0.4927 - accuracy: 0.1295 - val_loss: 3.0409 - val_accuracy: 0.3253\n",
            "Epoch 238/300\n",
            "20/20 [==============================] - 3s 174ms/step - loss: 0.4827 - accuracy: 0.1253 - val_loss: 2.0506 - val_accuracy: 0.2547\n",
            "Epoch 239/300\n",
            "20/20 [==============================] - 4s 212ms/step - loss: 0.4440 - accuracy: 0.1402 - val_loss: 1.2333 - val_accuracy: 0.1880\n",
            "Epoch 240/300\n",
            "20/20 [==============================] - 4s 229ms/step - loss: 0.4291 - accuracy: 0.1456 - val_loss: 0.8557 - val_accuracy: 0.1692\n",
            "Epoch 241/300\n",
            "20/20 [==============================] - 4s 199ms/step - loss: 0.4200 - accuracy: 0.1491 - val_loss: 0.5329 - val_accuracy: 0.1448\n",
            "Epoch 242/300\n",
            "20/20 [==============================] - 3s 177ms/step - loss: 0.4137 - accuracy: 0.1522 - val_loss: 0.5428 - val_accuracy: 0.1463\n",
            "Epoch 243/300\n",
            "20/20 [==============================] - 4s 203ms/step - loss: 0.4099 - accuracy: 0.1536 - val_loss: 0.5147 - val_accuracy: 0.1431\n",
            "Epoch 244/300\n",
            "20/20 [==============================] - 3s 175ms/step - loss: 0.4008 - accuracy: 0.1572 - val_loss: 0.4921 - val_accuracy: 0.1362\n",
            "Epoch 245/300\n",
            "20/20 [==============================] - 4s 209ms/step - loss: 0.3931 - accuracy: 0.1605 - val_loss: 0.4912 - val_accuracy: 0.1392\n",
            "Epoch 246/300\n",
            "20/20 [==============================] - 4s 219ms/step - loss: 0.3906 - accuracy: 0.1643 - val_loss: 0.4808 - val_accuracy: 0.1302\n",
            "Epoch 247/300\n",
            "20/20 [==============================] - 5s 247ms/step - loss: 0.5514 - accuracy: 0.1254 - val_loss: 4.5669 - val_accuracy: 0.2640\n",
            "Epoch 248/300\n",
            "20/20 [==============================] - 3s 170ms/step - loss: 0.5026 - accuracy: 0.1184 - val_loss: 2.7392 - val_accuracy: 0.2093\n",
            "Epoch 249/300\n",
            "20/20 [==============================] - 4s 201ms/step - loss: 0.4421 - accuracy: 0.1311 - val_loss: 1.0078 - val_accuracy: 0.1248\n",
            "Epoch 250/300\n",
            "20/20 [==============================] - 4s 189ms/step - loss: 0.4241 - accuracy: 0.1363 - val_loss: 0.7618 - val_accuracy: 0.1119\n",
            "Epoch 251/300\n",
            "20/20 [==============================] - 4s 179ms/step - loss: 0.4142 - accuracy: 0.1433 - val_loss: 0.6874 - val_accuracy: 0.1075\n",
            "Epoch 252/300\n",
            "20/20 [==============================] - 4s 189ms/step - loss: 0.4023 - accuracy: 0.1491 - val_loss: 0.5967 - val_accuracy: 0.1117\n",
            "Epoch 253/300\n",
            "20/20 [==============================] - 4s 220ms/step - loss: 0.3927 - accuracy: 0.1532 - val_loss: 0.5355 - val_accuracy: 0.1276\n",
            "Epoch 254/300\n",
            "20/20 [==============================] - 4s 216ms/step - loss: 0.3904 - accuracy: 0.1543 - val_loss: 0.5727 - val_accuracy: 0.1345\n",
            "Epoch 255/300\n",
            "20/20 [==============================] - 4s 205ms/step - loss: 0.3953 - accuracy: 0.1493 - val_loss: 0.5082 - val_accuracy: 0.1368\n",
            "Epoch 256/300\n",
            "20/20 [==============================] - 3s 171ms/step - loss: 0.3822 - accuracy: 0.1539 - val_loss: 0.4787 - val_accuracy: 0.1363\n",
            "Epoch 257/300\n",
            "20/20 [==============================] - 3s 177ms/step - loss: 0.4343 - accuracy: 0.1375 - val_loss: 0.7092 - val_accuracy: 0.1180\n",
            "Epoch 258/300\n",
            "20/20 [==============================] - 4s 226ms/step - loss: 0.4538 - accuracy: 0.1349 - val_loss: 0.6115 - val_accuracy: 0.1250\n",
            "Epoch 259/300\n",
            "20/20 [==============================] - 4s 195ms/step - loss: 0.4291 - accuracy: 0.1399 - val_loss: 0.5775 - val_accuracy: 0.1309\n",
            "Epoch 260/300\n",
            "20/20 [==============================] - 4s 226ms/step - loss: 0.4013 - accuracy: 0.1511 - val_loss: 0.5303 - val_accuracy: 0.1307\n",
            "Epoch 261/300\n",
            "20/20 [==============================] - 4s 222ms/step - loss: 0.3828 - accuracy: 0.1591 - val_loss: 0.5255 - val_accuracy: 0.1384\n",
            "Epoch 262/300\n",
            "20/20 [==============================] - 4s 228ms/step - loss: 0.3738 - accuracy: 0.1613 - val_loss: 0.4624 - val_accuracy: 0.1382\n",
            "Epoch 263/300\n",
            "20/20 [==============================] - 5s 254ms/step - loss: 0.3652 - accuracy: 0.1642 - val_loss: 0.4614 - val_accuracy: 0.1416\n",
            "Epoch 264/300\n",
            "20/20 [==============================] - 4s 215ms/step - loss: 0.3634 - accuracy: 0.1636 - val_loss: 0.4647 - val_accuracy: 0.1427\n",
            "Epoch 265/300\n",
            "20/20 [==============================] - 4s 186ms/step - loss: 0.3641 - accuracy: 0.1653 - val_loss: 0.4488 - val_accuracy: 0.1455\n",
            "Epoch 266/300\n",
            "20/20 [==============================] - 4s 219ms/step - loss: 0.3565 - accuracy: 0.1665 - val_loss: 0.4262 - val_accuracy: 0.1525\n",
            "Epoch 267/300\n",
            "20/20 [==============================] - 4s 188ms/step - loss: 0.3762 - accuracy: 0.1519 - val_loss: 0.4272 - val_accuracy: 0.1497\n",
            "Epoch 268/300\n",
            "20/20 [==============================] - 4s 198ms/step - loss: 0.3651 - accuracy: 0.1634 - val_loss: 0.4805 - val_accuracy: 0.1687\n",
            "Epoch 269/300\n",
            "20/20 [==============================] - 4s 226ms/step - loss: 0.3532 - accuracy: 0.1633 - val_loss: 0.4640 - val_accuracy: 0.1715\n",
            "Epoch 270/300\n",
            "20/20 [==============================] - 4s 224ms/step - loss: 0.3507 - accuracy: 0.1666 - val_loss: 0.4551 - val_accuracy: 0.1693\n",
            "Epoch 271/300\n",
            "20/20 [==============================] - 4s 188ms/step - loss: 0.3532 - accuracy: 0.1607 - val_loss: 0.4015 - val_accuracy: 0.1576\n",
            "Epoch 272/300\n",
            "20/20 [==============================] - 4s 202ms/step - loss: 0.3486 - accuracy: 0.1604 - val_loss: 0.4194 - val_accuracy: 0.1623\n",
            "Epoch 273/300\n",
            "20/20 [==============================] - 4s 226ms/step - loss: 0.3584 - accuracy: 0.1581 - val_loss: 0.4342 - val_accuracy: 0.1669\n",
            "Epoch 274/300\n",
            "20/20 [==============================] - 4s 200ms/step - loss: 0.3497 - accuracy: 0.1674 - val_loss: 0.6259 - val_accuracy: 0.1651\n",
            "Epoch 275/300\n",
            "20/20 [==============================] - 5s 257ms/step - loss: 0.3407 - accuracy: 0.1670 - val_loss: 0.4677 - val_accuracy: 0.1678\n",
            "Epoch 276/300\n",
            "20/20 [==============================] - 4s 214ms/step - loss: 0.3395 - accuracy: 0.1677 - val_loss: 0.4039 - val_accuracy: 0.1616\n",
            "Epoch 277/300\n",
            "20/20 [==============================] - 4s 208ms/step - loss: 0.3376 - accuracy: 0.1660 - val_loss: 0.4287 - val_accuracy: 0.1535\n",
            "Epoch 278/300\n",
            "20/20 [==============================] - 4s 209ms/step - loss: 0.3423 - accuracy: 0.1710 - val_loss: 0.4028 - val_accuracy: 0.1690\n",
            "Epoch 279/300\n",
            "20/20 [==============================] - 4s 190ms/step - loss: 0.3415 - accuracy: 0.1651 - val_loss: 0.5373 - val_accuracy: 0.1445\n",
            "Epoch 280/300\n",
            "20/20 [==============================] - 4s 181ms/step - loss: 0.3432 - accuracy: 0.1645 - val_loss: 0.3924 - val_accuracy: 0.1742\n",
            "Epoch 281/300\n",
            "20/20 [==============================] - 5s 262ms/step - loss: 0.3386 - accuracy: 0.1669 - val_loss: 0.3924 - val_accuracy: 0.1698\n",
            "Epoch 282/300\n",
            "20/20 [==============================] - 5s 250ms/step - loss: 0.3345 - accuracy: 0.1715 - val_loss: 0.4302 - val_accuracy: 0.1562\n",
            "Epoch 283/300\n",
            "20/20 [==============================] - 4s 212ms/step - loss: 0.3355 - accuracy: 0.1732 - val_loss: 0.4093 - val_accuracy: 0.1665\n",
            "Epoch 284/300\n",
            "20/20 [==============================] - 5s 239ms/step - loss: 0.3322 - accuracy: 0.1742 - val_loss: 0.9907 - val_accuracy: 0.1690\n",
            "Epoch 285/300\n",
            "20/20 [==============================] - 4s 219ms/step - loss: 0.3344 - accuracy: 0.1752 - val_loss: 0.5459 - val_accuracy: 0.1889\n",
            "Epoch 286/300\n",
            "20/20 [==============================] - 5s 240ms/step - loss: 0.3317 - accuracy: 0.1778 - val_loss: 0.7480 - val_accuracy: 0.1681\n",
            "Epoch 287/300\n",
            "20/20 [==============================] - 3s 170ms/step - loss: 0.3294 - accuracy: 0.1720 - val_loss: 0.4250 - val_accuracy: 0.1750\n",
            "Epoch 288/300\n",
            "20/20 [==============================] - 4s 211ms/step - loss: 0.3304 - accuracy: 0.1735 - val_loss: 0.5865 - val_accuracy: 0.1746\n",
            "Epoch 289/300\n",
            "20/20 [==============================] - 4s 187ms/step - loss: 0.3332 - accuracy: 0.1708 - val_loss: 0.7912 - val_accuracy: 0.1804\n",
            "Epoch 290/300\n",
            "20/20 [==============================] - 5s 259ms/step - loss: 0.3327 - accuracy: 0.1745 - val_loss: 0.4401 - val_accuracy: 0.1809\n",
            "Epoch 291/300\n",
            "20/20 [==============================] - 4s 184ms/step - loss: 0.3283 - accuracy: 0.1724 - val_loss: 0.6328 - val_accuracy: 0.1618\n",
            "Epoch 292/300\n",
            "20/20 [==============================] - 4s 200ms/step - loss: 0.3264 - accuracy: 0.1774 - val_loss: 0.7129 - val_accuracy: 0.1589\n",
            "Epoch 293/300\n",
            "20/20 [==============================] - 3s 171ms/step - loss: 0.3354 - accuracy: 0.1695 - val_loss: 0.3954 - val_accuracy: 0.1621\n",
            "Epoch 294/300\n",
            "20/20 [==============================] - 5s 244ms/step - loss: 0.3276 - accuracy: 0.1759 - val_loss: 0.4018 - val_accuracy: 0.1667\n",
            "Epoch 295/300\n",
            "20/20 [==============================] - 4s 218ms/step - loss: 0.3290 - accuracy: 0.1747 - val_loss: 0.4423 - val_accuracy: 0.1657\n",
            "Epoch 296/300\n",
            "20/20 [==============================] - 4s 210ms/step - loss: 0.3285 - accuracy: 0.1720 - val_loss: 0.5404 - val_accuracy: 0.1595\n",
            "Epoch 297/300\n",
            "20/20 [==============================] - 4s 199ms/step - loss: 0.3247 - accuracy: 0.1732 - val_loss: 0.4677 - val_accuracy: 0.1753\n",
            "Epoch 298/300\n",
            "20/20 [==============================] - 4s 228ms/step - loss: 0.3270 - accuracy: 0.1767 - val_loss: 0.3958 - val_accuracy: 0.1582\n",
            "Epoch 299/300\n",
            "20/20 [==============================] - 4s 202ms/step - loss: 0.3239 - accuracy: 0.1753 - val_loss: 0.4272 - val_accuracy: 0.1661\n",
            "Epoch 300/300\n",
            "20/20 [==============================] - 4s 217ms/step - loss: 0.3220 - accuracy: 0.1783 - val_loss: 0.4162 - val_accuracy: 0.1753\n"
          ]
        },
        {
          "data": {
            "text/plain": [
              "<keras.callbacks.History at 0x7f5f501e8a10>"
            ]
          },
          "execution_count": 299,
          "metadata": {},
          "output_type": "execute_result"
        }
      ],
      "source": [
        "kiunet_model_a1.fit(x_train, y_onehot_train, batch_size=1, epochs=300, \n",
        "                 validation_data=(x_test, y_onehot_test), verbose=1,    ## validation_data = test_data, no early stopping\n",
        "                 callbacks=keras.callbacks.TensorBoard(log_dir=\"./logs\"))    ## log metrics in TensorBoard"
      ]
    },
    {
      "cell_type": "code",
      "execution_count": null,
      "metadata": {
        "colab": {
          "base_uri": "https://localhost:8080/",
          "height": 145
        },
        "id": "DjkBrkYM6u9w",
        "outputId": "531d2471-449a-472e-e4a7-e186eecbb495"
      },
      "outputs": [
        {
          "data": {
            "image/png": "[encoded data removed]",
            "text/plain": [
              "<PIL.Image.Image image mode=L size=128x128 at 0x7F5EC9218850>"
            ]
          },
          "execution_count": 301,
          "metadata": {},
          "output_type": "execute_result"
        }
      ],
      "source": [
        "test_pred = kiunet_model_a1.predict(x_test[0][tf.newaxis, ...])\n",
        "test_pred = np.reshape(test_pred,(128,128,1,2))\n",
        "b=tf.keras.utils.array_to_img(test_pred[:,:,:,1])\n",
        "b"
      ]
    },
    {
      "cell_type": "code",
      "execution_count": null,
      "metadata": {
        "colab": {
          "base_uri": "https://localhost:8080/",
          "height": 145
        },
        "id": "3nGMQrXv37wP",
        "outputId": "41685c07-26d5-40bb-c0e2-36b93220a743"
      },
      "outputs": [
        {
          "data": {
            "image/png": "[encoded data removed]",
            "text/plain": [
              "<PIL.Image.Image image mode=L size=128x128 at 0x7F5EC92E36D0>"
            ]
          },
          "execution_count": 302,
          "metadata": {},
          "output_type": "execute_result"
        }
      ],
      "source": [
        "test_pred = kiunet_model_a1.predict(x_test[0][tf.newaxis, ...])\n",
        "test_pred = np.reshape(test_pred,(128,128,1,2))\n",
        "y_classes = test_pred.argmax(axis=-1)\n",
        "# y_classes = np.reshape(y_classes,(128,128,1))\n",
        "b=tf.keras.utils.array_to_img(y_classes)\n",
        "b"
      ]
    },
    {
      "cell_type": "code",
      "execution_count": null,
      "metadata": {
        "colab": {
          "base_uri": "https://localhost:8080/"
        },
        "id": "j-BJRm1vNrJj",
        "outputId": "7714c468-d2d6-4757-86b2-4652f4e2d495"
      },
      "outputs": [
        {
          "data": {
            "text/plain": [
              "0.64796066"
            ]
          },
          "execution_count": 303,
          "metadata": {},
          "output_type": "execute_result"
        }
      ],
      "source": [
        "m1 = tf.keras.metrics.MeanIoU(num_classes=2)\n",
        "m1.update_state(y_classes, y_test_binary[0])\n",
        "m1.result().numpy()"
      ]
    },
    {
      "cell_type": "code",
      "execution_count": null,
      "metadata": {
        "colab": {
          "base_uri": "https://localhost:8080/"
        },
        "id": "mjvlbYNUh_Ge",
        "outputId": "f58cb393-0667-4cbf-a999-1b2140ae407e"
      },
      "outputs": [
        {
          "name": "stdout",
          "output_type": "stream",
          "text": [
            "INFO:tensorflow:Assets written to: kiUnet_model_pb_3d_a/assets\n"
          ]
        },
        {
          "name": "stderr",
          "output_type": "stream",
          "text": [
            "/usr/local/lib/python3.7/dist-packages/keras/utils/generic_utils.py:497: CustomMaskWarning: Custom mask layers require a config and must override get_config. When loading, the custom mask layer must be passed to the custom_objects argument.\n",
            "  category=CustomMaskWarning)\n"
          ]
        }
      ],
      "source": [
        "# Save the entire model\n",
        "\n",
        "## Define path to saved directory\n",
        "#save_dir = 'INSERT_PATH_TO_DIR'\n",
        "\n",
        "## Save using SavedModel format\n",
        "kiunet_model_a1.save('kiUnet_model_pb_3d_a')\n",
        "\n",
        "## Save again using H5 format\n",
        "kiunet_model_a1.save('kiUnet_model2_3d_a.h5', save_format='h5')"
      ]
    },
    {
      "cell_type": "markdown",
      "metadata": {
        "id": "glb_y5K3h_Gg"
      },
      "source": [
        "# Load trained model"
      ]
    },
    {
      "cell_type": "code",
      "execution_count": 9,
      "metadata": {
        "id": "b-Ez9zQ4g9cs"
      },
      "outputs": [
        {
          "ename": "TypeError",
          "evalue": "__init__() got an unexpected keyword argument 'axis'",
          "output_type": "error",
          "traceback": [
            "\u001b[1;31m---------------------------------------------------------------------------\u001b[0m",
            "\u001b[1;31mTypeError\u001b[0m                                 Traceback (most recent call last)",
            "\u001b[1;32m~\\AppData\\Local\\Temp/ipykernel_23264/3400148768.py\u001b[0m in \u001b[0;36m<module>\u001b[1;34m\u001b[0m\n\u001b[0;32m      2\u001b[0m \u001b[1;31m# from tensorflow import saved_model as sm\u001b[0m\u001b[1;33m\u001b[0m\u001b[1;33m\u001b[0m\u001b[0m\n\u001b[0;32m      3\u001b[0m \u001b[1;33m\u001b[0m\u001b[0m\n\u001b[1;32m----> 4\u001b[1;33m \u001b[0munet_reconstructed\u001b[0m \u001b[1;33m=\u001b[0m \u001b[0mkeras\u001b[0m\u001b[1;33m.\u001b[0m\u001b[0mmodels\u001b[0m\u001b[1;33m.\u001b[0m\u001b[0mload_model\u001b[0m\u001b[1;33m(\u001b[0m\u001b[1;34m'unet_model_h5.h5'\u001b[0m\u001b[1;33m)\u001b[0m\u001b[1;33m\u001b[0m\u001b[1;33m\u001b[0m\u001b[0m\n\u001b[0m",
            "\u001b[1;32m~\\.conda\\envs\\tf-gpu\\lib\\site-packages\\tensorflow\\python\\keras\\saving\\save.py\u001b[0m in \u001b[0;36mload_model\u001b[1;34m(filepath, custom_objects, compile, options)\u001b[0m\n\u001b[0;32m    199\u001b[0m         if (h5py is not None and\n\u001b[0;32m    200\u001b[0m             (isinstance(filepath, h5py.File) or h5py.is_hdf5(filepath))):\n\u001b[1;32m--> 201\u001b[1;33m           return hdf5_format.load_model_from_hdf5(filepath, custom_objects,\n\u001b[0m\u001b[0;32m    202\u001b[0m                                                   compile)\n\u001b[0;32m    203\u001b[0m \u001b[1;33m\u001b[0m\u001b[0m\n",
            "\u001b[1;32m~\\.conda\\envs\\tf-gpu\\lib\\site-packages\\tensorflow\\python\\keras\\saving\\hdf5_format.py\u001b[0m in \u001b[0;36mload_model_from_hdf5\u001b[1;34m(filepath, custom_objects, compile)\u001b[0m\n\u001b[0;32m    196\u001b[0m \u001b[1;33m\u001b[0m\u001b[0m\n\u001b[0;32m    197\u001b[0m       \u001b[1;31m# Compile model.\u001b[0m\u001b[1;33m\u001b[0m\u001b[1;33m\u001b[0m\u001b[0m\n\u001b[1;32m--> 198\u001b[1;33m       model.compile(**saving_utils.compile_args_from_training_config(\n\u001b[0m\u001b[0;32m    199\u001b[0m           training_config, custom_objects), from_serialized=True)\n\u001b[0;32m    200\u001b[0m       \u001b[0msaving_utils\u001b[0m\u001b[1;33m.\u001b[0m\u001b[0mtry_build_compiled_arguments\u001b[0m\u001b[1;33m(\u001b[0m\u001b[0mmodel\u001b[0m\u001b[1;33m)\u001b[0m\u001b[1;33m\u001b[0m\u001b[1;33m\u001b[0m\u001b[0m\n",
            "\u001b[1;32m~\\.conda\\envs\\tf-gpu\\lib\\site-packages\\tensorflow\\python\\keras\\saving\\saving_utils.py\u001b[0m in \u001b[0;36mcompile_args_from_training_config\u001b[1;34m(training_config, custom_objects)\u001b[0m\n\u001b[0;32m    211\u001b[0m     \u001b[0mloss_config\u001b[0m \u001b[1;33m=\u001b[0m \u001b[0mtraining_config\u001b[0m\u001b[1;33m.\u001b[0m\u001b[0mget\u001b[0m\u001b[1;33m(\u001b[0m\u001b[1;34m'loss'\u001b[0m\u001b[1;33m,\u001b[0m \u001b[1;32mNone\u001b[0m\u001b[1;33m)\u001b[0m\u001b[1;33m\u001b[0m\u001b[1;33m\u001b[0m\u001b[0m\n\u001b[0;32m    212\u001b[0m     \u001b[1;32mif\u001b[0m \u001b[0mloss_config\u001b[0m \u001b[1;32mis\u001b[0m \u001b[1;32mnot\u001b[0m \u001b[1;32mNone\u001b[0m\u001b[1;33m:\u001b[0m\u001b[1;33m\u001b[0m\u001b[1;33m\u001b[0m\u001b[0m\n\u001b[1;32m--> 213\u001b[1;33m       \u001b[0mloss\u001b[0m \u001b[1;33m=\u001b[0m \u001b[0m_deserialize_nested_config\u001b[0m\u001b[1;33m(\u001b[0m\u001b[0mlosses\u001b[0m\u001b[1;33m.\u001b[0m\u001b[0mdeserialize\u001b[0m\u001b[1;33m,\u001b[0m \u001b[0mloss_config\u001b[0m\u001b[1;33m)\u001b[0m\u001b[1;33m\u001b[0m\u001b[1;33m\u001b[0m\u001b[0m\n\u001b[0m\u001b[0;32m    214\u001b[0m \u001b[1;33m\u001b[0m\u001b[0m\n\u001b[0;32m    215\u001b[0m     \u001b[1;31m# Recover metrics.\u001b[0m\u001b[1;33m\u001b[0m\u001b[1;33m\u001b[0m\u001b[0m\n",
            "\u001b[1;32m~\\.conda\\envs\\tf-gpu\\lib\\site-packages\\tensorflow\\python\\keras\\saving\\saving_utils.py\u001b[0m in \u001b[0;36m_deserialize_nested_config\u001b[1;34m(deserialize_fn, config)\u001b[0m\n\u001b[0;32m    252\u001b[0m     \u001b[1;32mreturn\u001b[0m \u001b[1;32mNone\u001b[0m\u001b[1;33m\u001b[0m\u001b[1;33m\u001b[0m\u001b[0m\n\u001b[0;32m    253\u001b[0m   \u001b[1;32mif\u001b[0m \u001b[0m_is_single_object\u001b[0m\u001b[1;33m(\u001b[0m\u001b[0mconfig\u001b[0m\u001b[1;33m)\u001b[0m\u001b[1;33m:\u001b[0m\u001b[1;33m\u001b[0m\u001b[1;33m\u001b[0m\u001b[0m\n\u001b[1;32m--> 254\u001b[1;33m     \u001b[1;32mreturn\u001b[0m \u001b[0mdeserialize_fn\u001b[0m\u001b[1;33m(\u001b[0m\u001b[0mconfig\u001b[0m\u001b[1;33m)\u001b[0m\u001b[1;33m\u001b[0m\u001b[1;33m\u001b[0m\u001b[0m\n\u001b[0m\u001b[0;32m    255\u001b[0m   \u001b[1;32melif\u001b[0m \u001b[0misinstance\u001b[0m\u001b[1;33m(\u001b[0m\u001b[0mconfig\u001b[0m\u001b[1;33m,\u001b[0m \u001b[0mdict\u001b[0m\u001b[1;33m)\u001b[0m\u001b[1;33m:\u001b[0m\u001b[1;33m\u001b[0m\u001b[1;33m\u001b[0m\u001b[0m\n\u001b[0;32m    256\u001b[0m     return {\n",
            "\u001b[1;32m~\\.conda\\envs\\tf-gpu\\lib\\site-packages\\tensorflow\\python\\keras\\losses.py\u001b[0m in \u001b[0;36mdeserialize\u001b[1;34m(name, custom_objects)\u001b[0m\n\u001b[0;32m   2031\u001b[0m       \u001b[0mA\u001b[0m \u001b[0mKeras\u001b[0m\u001b[0;31m \u001b[0m\u001b[0;31m`\u001b[0m\u001b[0mLoss\u001b[0m\u001b[0;31m`\u001b[0m \u001b[0minstance\u001b[0m \u001b[1;32mor\u001b[0m \u001b[0ma\u001b[0m \u001b[0mloss\u001b[0m \u001b[0mfunction\u001b[0m\u001b[1;33m.\u001b[0m\u001b[1;33m\u001b[0m\u001b[1;33m\u001b[0m\u001b[0m\n\u001b[0;32m   2032\u001b[0m   \"\"\"\n\u001b[1;32m-> 2033\u001b[1;33m   return deserialize_keras_object(\n\u001b[0m\u001b[0;32m   2034\u001b[0m       \u001b[0mname\u001b[0m\u001b[1;33m,\u001b[0m\u001b[1;33m\u001b[0m\u001b[1;33m\u001b[0m\u001b[0m\n\u001b[0;32m   2035\u001b[0m       \u001b[0mmodule_objects\u001b[0m\u001b[1;33m=\u001b[0m\u001b[0mglobals\u001b[0m\u001b[1;33m(\u001b[0m\u001b[1;33m)\u001b[0m\u001b[1;33m,\u001b[0m\u001b[1;33m\u001b[0m\u001b[1;33m\u001b[0m\u001b[0m\n",
            "\u001b[1;32m~\\.conda\\envs\\tf-gpu\\lib\\site-packages\\tensorflow\\python\\keras\\utils\\generic_utils.py\u001b[0m in \u001b[0;36mdeserialize_keras_object\u001b[1;34m(identifier, module_objects, custom_objects, printable_module_name)\u001b[0m\n\u001b[0;32m    673\u001b[0m       \u001b[1;32melse\u001b[0m\u001b[1;33m:\u001b[0m\u001b[1;33m\u001b[0m\u001b[1;33m\u001b[0m\u001b[0m\n\u001b[0;32m    674\u001b[0m         \u001b[1;32mwith\u001b[0m \u001b[0mCustomObjectScope\u001b[0m\u001b[1;33m(\u001b[0m\u001b[0mcustom_objects\u001b[0m\u001b[1;33m)\u001b[0m\u001b[1;33m:\u001b[0m\u001b[1;33m\u001b[0m\u001b[1;33m\u001b[0m\u001b[0m\n\u001b[1;32m--> 675\u001b[1;33m           \u001b[0mdeserialized_obj\u001b[0m \u001b[1;33m=\u001b[0m \u001b[0mcls\u001b[0m\u001b[1;33m.\u001b[0m\u001b[0mfrom_config\u001b[0m\u001b[1;33m(\u001b[0m\u001b[0mcls_config\u001b[0m\u001b[1;33m)\u001b[0m\u001b[1;33m\u001b[0m\u001b[1;33m\u001b[0m\u001b[0m\n\u001b[0m\u001b[0;32m    676\u001b[0m     \u001b[1;32melse\u001b[0m\u001b[1;33m:\u001b[0m\u001b[1;33m\u001b[0m\u001b[1;33m\u001b[0m\u001b[0m\n\u001b[0;32m    677\u001b[0m       \u001b[1;31m# Then `cls` may be a function returning a class.\u001b[0m\u001b[1;33m\u001b[0m\u001b[1;33m\u001b[0m\u001b[0m\n",
            "\u001b[1;32m~\\.conda\\envs\\tf-gpu\\lib\\site-packages\\tensorflow\\python\\keras\\losses.py\u001b[0m in \u001b[0;36mfrom_config\u001b[1;34m(cls, config)\u001b[0m\n\u001b[0;32m    167\u001b[0m         \u001b[0mA\u001b[0m\u001b[0;31m \u001b[0m\u001b[0;31m`\u001b[0m\u001b[0mLoss\u001b[0m\u001b[0;31m`\u001b[0m \u001b[0minstance\u001b[0m\u001b[1;33m.\u001b[0m\u001b[1;33m\u001b[0m\u001b[1;33m\u001b[0m\u001b[0m\n\u001b[0;32m    168\u001b[0m     \"\"\"\n\u001b[1;32m--> 169\u001b[1;33m     \u001b[1;32mreturn\u001b[0m \u001b[0mcls\u001b[0m\u001b[1;33m(\u001b[0m\u001b[1;33m**\u001b[0m\u001b[0mconfig\u001b[0m\u001b[1;33m)\u001b[0m\u001b[1;33m\u001b[0m\u001b[1;33m\u001b[0m\u001b[0m\n\u001b[0m\u001b[0;32m    170\u001b[0m \u001b[1;33m\u001b[0m\u001b[0m\n\u001b[0;32m    171\u001b[0m   \u001b[1;32mdef\u001b[0m \u001b[0mget_config\u001b[0m\u001b[1;33m(\u001b[0m\u001b[0mself\u001b[0m\u001b[1;33m)\u001b[0m\u001b[1;33m:\u001b[0m\u001b[1;33m\u001b[0m\u001b[1;33m\u001b[0m\u001b[0m\n",
            "\u001b[1;31mTypeError\u001b[0m: __init__() got an unexpected keyword argument 'axis'"
          ]
        }
      ],
      "source": [
        "# from tensorflow import keras\n",
        "# from tensorflow import saved_model as sm\n",
        "\n",
        "unet_reconstructed = keras.models.load_model('unet_model_h5.h5')"
      ]
    },
    {
      "cell_type": "code",
      "execution_count": 10,
      "metadata": {
        "id": "T6oYmjnkh_Gi"
      },
      "outputs": [
        {
          "ename": "TypeError",
          "evalue": "__init__() got an unexpected keyword argument 'axis'",
          "output_type": "error",
          "traceback": [
            "\u001b[1;31m---------------------------------------------------------------------------\u001b[0m",
            "\u001b[1;31mTypeError\u001b[0m                                 Traceback (most recent call last)",
            "\u001b[1;32m~\\AppData\\Local\\Temp/ipykernel_23264/2794377157.py\u001b[0m in \u001b[0;36m<module>\u001b[1;34m\u001b[0m\n\u001b[0;32m      2\u001b[0m \u001b[1;31m# from tensorflow import saved_model as sm\u001b[0m\u001b[1;33m\u001b[0m\u001b[1;33m\u001b[0m\u001b[0m\n\u001b[0;32m      3\u001b[0m \u001b[1;33m\u001b[0m\u001b[0m\n\u001b[1;32m----> 4\u001b[1;33m \u001b[0mkiunet_reconstructed\u001b[0m \u001b[1;33m=\u001b[0m \u001b[0mkeras\u001b[0m\u001b[1;33m.\u001b[0m\u001b[0mmodels\u001b[0m\u001b[1;33m.\u001b[0m\u001b[0mload_model\u001b[0m\u001b[1;33m(\u001b[0m\u001b[1;34m'kiUnet_model2_3d_a.h5'\u001b[0m\u001b[1;33m)\u001b[0m\u001b[1;33m\u001b[0m\u001b[1;33m\u001b[0m\u001b[0m\n\u001b[0m",
            "\u001b[1;32m~\\.conda\\envs\\tf-gpu\\lib\\site-packages\\tensorflow\\python\\keras\\saving\\save.py\u001b[0m in \u001b[0;36mload_model\u001b[1;34m(filepath, custom_objects, compile, options)\u001b[0m\n\u001b[0;32m    199\u001b[0m         if (h5py is not None and\n\u001b[0;32m    200\u001b[0m             (isinstance(filepath, h5py.File) or h5py.is_hdf5(filepath))):\n\u001b[1;32m--> 201\u001b[1;33m           return hdf5_format.load_model_from_hdf5(filepath, custom_objects,\n\u001b[0m\u001b[0;32m    202\u001b[0m                                                   compile)\n\u001b[0;32m    203\u001b[0m \u001b[1;33m\u001b[0m\u001b[0m\n",
            "\u001b[1;32m~\\.conda\\envs\\tf-gpu\\lib\\site-packages\\tensorflow\\python\\keras\\saving\\hdf5_format.py\u001b[0m in \u001b[0;36mload_model_from_hdf5\u001b[1;34m(filepath, custom_objects, compile)\u001b[0m\n\u001b[0;32m    196\u001b[0m \u001b[1;33m\u001b[0m\u001b[0m\n\u001b[0;32m    197\u001b[0m       \u001b[1;31m# Compile model.\u001b[0m\u001b[1;33m\u001b[0m\u001b[1;33m\u001b[0m\u001b[0m\n\u001b[1;32m--> 198\u001b[1;33m       model.compile(**saving_utils.compile_args_from_training_config(\n\u001b[0m\u001b[0;32m    199\u001b[0m           training_config, custom_objects), from_serialized=True)\n\u001b[0;32m    200\u001b[0m       \u001b[0msaving_utils\u001b[0m\u001b[1;33m.\u001b[0m\u001b[0mtry_build_compiled_arguments\u001b[0m\u001b[1;33m(\u001b[0m\u001b[0mmodel\u001b[0m\u001b[1;33m)\u001b[0m\u001b[1;33m\u001b[0m\u001b[1;33m\u001b[0m\u001b[0m\n",
            "\u001b[1;32m~\\.conda\\envs\\tf-gpu\\lib\\site-packages\\tensorflow\\python\\keras\\saving\\saving_utils.py\u001b[0m in \u001b[0;36mcompile_args_from_training_config\u001b[1;34m(training_config, custom_objects)\u001b[0m\n\u001b[0;32m    211\u001b[0m     \u001b[0mloss_config\u001b[0m \u001b[1;33m=\u001b[0m \u001b[0mtraining_config\u001b[0m\u001b[1;33m.\u001b[0m\u001b[0mget\u001b[0m\u001b[1;33m(\u001b[0m\u001b[1;34m'loss'\u001b[0m\u001b[1;33m,\u001b[0m \u001b[1;32mNone\u001b[0m\u001b[1;33m)\u001b[0m\u001b[1;33m\u001b[0m\u001b[1;33m\u001b[0m\u001b[0m\n\u001b[0;32m    212\u001b[0m     \u001b[1;32mif\u001b[0m \u001b[0mloss_config\u001b[0m \u001b[1;32mis\u001b[0m \u001b[1;32mnot\u001b[0m \u001b[1;32mNone\u001b[0m\u001b[1;33m:\u001b[0m\u001b[1;33m\u001b[0m\u001b[1;33m\u001b[0m\u001b[0m\n\u001b[1;32m--> 213\u001b[1;33m       \u001b[0mloss\u001b[0m \u001b[1;33m=\u001b[0m \u001b[0m_deserialize_nested_config\u001b[0m\u001b[1;33m(\u001b[0m\u001b[0mlosses\u001b[0m\u001b[1;33m.\u001b[0m\u001b[0mdeserialize\u001b[0m\u001b[1;33m,\u001b[0m \u001b[0mloss_config\u001b[0m\u001b[1;33m)\u001b[0m\u001b[1;33m\u001b[0m\u001b[1;33m\u001b[0m\u001b[0m\n\u001b[0m\u001b[0;32m    214\u001b[0m \u001b[1;33m\u001b[0m\u001b[0m\n\u001b[0;32m    215\u001b[0m     \u001b[1;31m# Recover metrics.\u001b[0m\u001b[1;33m\u001b[0m\u001b[1;33m\u001b[0m\u001b[0m\n",
            "\u001b[1;32m~\\.conda\\envs\\tf-gpu\\lib\\site-packages\\tensorflow\\python\\keras\\saving\\saving_utils.py\u001b[0m in \u001b[0;36m_deserialize_nested_config\u001b[1;34m(deserialize_fn, config)\u001b[0m\n\u001b[0;32m    252\u001b[0m     \u001b[1;32mreturn\u001b[0m \u001b[1;32mNone\u001b[0m\u001b[1;33m\u001b[0m\u001b[1;33m\u001b[0m\u001b[0m\n\u001b[0;32m    253\u001b[0m   \u001b[1;32mif\u001b[0m \u001b[0m_is_single_object\u001b[0m\u001b[1;33m(\u001b[0m\u001b[0mconfig\u001b[0m\u001b[1;33m)\u001b[0m\u001b[1;33m:\u001b[0m\u001b[1;33m\u001b[0m\u001b[1;33m\u001b[0m\u001b[0m\n\u001b[1;32m--> 254\u001b[1;33m     \u001b[1;32mreturn\u001b[0m \u001b[0mdeserialize_fn\u001b[0m\u001b[1;33m(\u001b[0m\u001b[0mconfig\u001b[0m\u001b[1;33m)\u001b[0m\u001b[1;33m\u001b[0m\u001b[1;33m\u001b[0m\u001b[0m\n\u001b[0m\u001b[0;32m    255\u001b[0m   \u001b[1;32melif\u001b[0m \u001b[0misinstance\u001b[0m\u001b[1;33m(\u001b[0m\u001b[0mconfig\u001b[0m\u001b[1;33m,\u001b[0m \u001b[0mdict\u001b[0m\u001b[1;33m)\u001b[0m\u001b[1;33m:\u001b[0m\u001b[1;33m\u001b[0m\u001b[1;33m\u001b[0m\u001b[0m\n\u001b[0;32m    256\u001b[0m     return {\n",
            "\u001b[1;32m~\\.conda\\envs\\tf-gpu\\lib\\site-packages\\tensorflow\\python\\keras\\losses.py\u001b[0m in \u001b[0;36mdeserialize\u001b[1;34m(name, custom_objects)\u001b[0m\n\u001b[0;32m   2031\u001b[0m       \u001b[0mA\u001b[0m \u001b[0mKeras\u001b[0m\u001b[0;31m \u001b[0m\u001b[0;31m`\u001b[0m\u001b[0mLoss\u001b[0m\u001b[0;31m`\u001b[0m \u001b[0minstance\u001b[0m \u001b[1;32mor\u001b[0m \u001b[0ma\u001b[0m \u001b[0mloss\u001b[0m \u001b[0mfunction\u001b[0m\u001b[1;33m.\u001b[0m\u001b[1;33m\u001b[0m\u001b[1;33m\u001b[0m\u001b[0m\n\u001b[0;32m   2032\u001b[0m   \"\"\"\n\u001b[1;32m-> 2033\u001b[1;33m   return deserialize_keras_object(\n\u001b[0m\u001b[0;32m   2034\u001b[0m       \u001b[0mname\u001b[0m\u001b[1;33m,\u001b[0m\u001b[1;33m\u001b[0m\u001b[1;33m\u001b[0m\u001b[0m\n\u001b[0;32m   2035\u001b[0m       \u001b[0mmodule_objects\u001b[0m\u001b[1;33m=\u001b[0m\u001b[0mglobals\u001b[0m\u001b[1;33m(\u001b[0m\u001b[1;33m)\u001b[0m\u001b[1;33m,\u001b[0m\u001b[1;33m\u001b[0m\u001b[1;33m\u001b[0m\u001b[0m\n",
            "\u001b[1;32m~\\.conda\\envs\\tf-gpu\\lib\\site-packages\\tensorflow\\python\\keras\\utils\\generic_utils.py\u001b[0m in \u001b[0;36mdeserialize_keras_object\u001b[1;34m(identifier, module_objects, custom_objects, printable_module_name)\u001b[0m\n\u001b[0;32m    673\u001b[0m       \u001b[1;32melse\u001b[0m\u001b[1;33m:\u001b[0m\u001b[1;33m\u001b[0m\u001b[1;33m\u001b[0m\u001b[0m\n\u001b[0;32m    674\u001b[0m         \u001b[1;32mwith\u001b[0m \u001b[0mCustomObjectScope\u001b[0m\u001b[1;33m(\u001b[0m\u001b[0mcustom_objects\u001b[0m\u001b[1;33m)\u001b[0m\u001b[1;33m:\u001b[0m\u001b[1;33m\u001b[0m\u001b[1;33m\u001b[0m\u001b[0m\n\u001b[1;32m--> 675\u001b[1;33m           \u001b[0mdeserialized_obj\u001b[0m \u001b[1;33m=\u001b[0m \u001b[0mcls\u001b[0m\u001b[1;33m.\u001b[0m\u001b[0mfrom_config\u001b[0m\u001b[1;33m(\u001b[0m\u001b[0mcls_config\u001b[0m\u001b[1;33m)\u001b[0m\u001b[1;33m\u001b[0m\u001b[1;33m\u001b[0m\u001b[0m\n\u001b[0m\u001b[0;32m    676\u001b[0m     \u001b[1;32melse\u001b[0m\u001b[1;33m:\u001b[0m\u001b[1;33m\u001b[0m\u001b[1;33m\u001b[0m\u001b[0m\n\u001b[0;32m    677\u001b[0m       \u001b[1;31m# Then `cls` may be a function returning a class.\u001b[0m\u001b[1;33m\u001b[0m\u001b[1;33m\u001b[0m\u001b[0m\n",
            "\u001b[1;32m~\\.conda\\envs\\tf-gpu\\lib\\site-packages\\tensorflow\\python\\keras\\losses.py\u001b[0m in \u001b[0;36mfrom_config\u001b[1;34m(cls, config)\u001b[0m\n\u001b[0;32m    167\u001b[0m         \u001b[0mA\u001b[0m\u001b[0;31m \u001b[0m\u001b[0;31m`\u001b[0m\u001b[0mLoss\u001b[0m\u001b[0;31m`\u001b[0m \u001b[0minstance\u001b[0m\u001b[1;33m.\u001b[0m\u001b[1;33m\u001b[0m\u001b[1;33m\u001b[0m\u001b[0m\n\u001b[0;32m    168\u001b[0m     \"\"\"\n\u001b[1;32m--> 169\u001b[1;33m     \u001b[1;32mreturn\u001b[0m \u001b[0mcls\u001b[0m\u001b[1;33m(\u001b[0m\u001b[1;33m**\u001b[0m\u001b[0mconfig\u001b[0m\u001b[1;33m)\u001b[0m\u001b[1;33m\u001b[0m\u001b[1;33m\u001b[0m\u001b[0m\n\u001b[0m\u001b[0;32m    170\u001b[0m \u001b[1;33m\u001b[0m\u001b[0m\n\u001b[0;32m    171\u001b[0m   \u001b[1;32mdef\u001b[0m \u001b[0mget_config\u001b[0m\u001b[1;33m(\u001b[0m\u001b[0mself\u001b[0m\u001b[1;33m)\u001b[0m\u001b[1;33m:\u001b[0m\u001b[1;33m\u001b[0m\u001b[1;33m\u001b[0m\u001b[0m\n",
            "\u001b[1;31mTypeError\u001b[0m: __init__() got an unexpected keyword argument 'axis'"
          ]
        }
      ],
      "source": [
        "# from tensorflow import keras\n",
        "# from tensorflow import saved_model as sm\n",
        "\n",
        "kiunet_reconstructed = keras.models.load_model('kiUnet_model2_3d_a.h5')"
      ]
    },
    {
      "cell_type": "code",
      "execution_count": null,
      "metadata": {
        "colab": {
          "base_uri": "https://localhost:8080/",
          "height": 145
        },
        "id": "-83-xi16hCfg",
        "outputId": "d87de61d-1294-4e19-c2b4-536861c92c27"
      },
      "outputs": [
        {
          "data": {
            "image/png": "[encoded data removed]",
            "text/plain": [
              "<PIL.Image.Image image mode=L size=128x128 at 0x7F5B60881910>"
            ]
          },
          "execution_count": 326,
          "metadata": {},
          "output_type": "execute_result"
        }
      ],
      "source": [
        "test_pred = unet_reconstructed.predict(x_test[0][tf.newaxis, ...])\n",
        "test_pred = np.reshape(test_pred,(128,128,1,2))\n",
        "b=tf.keras.utils.array_to_img(test_pred[:,:,:,1])\n",
        "b"
      ]
    },
    {
      "cell_type": "code",
      "execution_count": null,
      "metadata": {
        "colab": {
          "base_uri": "https://localhost:8080/",
          "height": 145
        },
        "id": "vZE0rrGqhCWM",
        "outputId": "6cef0708-a9f0-4042-f97d-fc41de90e9f0"
      },
      "outputs": [
        {
          "data": {
            "image/png": "[encoded data removed]",
            "text/plain": [
              "<PIL.Image.Image image mode=L size=128x128 at 0x7F5B5B708610>"
            ]
          },
          "execution_count": 327,
          "metadata": {},
          "output_type": "execute_result"
        }
      ],
      "source": [
        "test_pred = unet_reconstructed.predict(x_test[0][tf.newaxis, ...])\n",
        "test_pred = np.reshape(test_pred,(128,128,1,2))\n",
        "y_classes = test_pred.argmax(axis=-1)\n",
        "# y_classes = np.reshape(y_classes,(128,128,1))\n",
        "b=tf.keras.utils.array_to_img(y_classes)\n",
        "b"
      ]
    },
    {
      "cell_type": "code",
      "execution_count": null,
      "metadata": {
        "colab": {
          "base_uri": "https://localhost:8080/",
          "height": 145
        },
        "id": "1wZ0-6ndNDVf",
        "outputId": "abafe9cc-840b-4143-bd90-151e0736e205"
      },
      "outputs": [
        {
          "data": {
            "image/png": "[encoded data removed]",
            "text/plain": [
              "<PIL.Image.Image image mode=L size=128x128 at 0x7F5B5B74EBD0>"
            ]
          },
          "execution_count": 328,
          "metadata": {},
          "output_type": "execute_result"
        }
      ],
      "source": [
        "test_pred = kiunet_reconstructed.predict(x_test[0][tf.newaxis, ...])\n",
        "test_pred = np.reshape(test_pred,(128,128,1,2))\n",
        "b=tf.keras.utils.array_to_img(test_pred[:,:,:,1])\n",
        "b"
      ]
    },
    {
      "cell_type": "code",
      "execution_count": null,
      "metadata": {
        "colab": {
          "base_uri": "https://localhost:8080/",
          "height": 145
        },
        "id": "WENLtM-sh_Gj",
        "outputId": "66d3c982-4b57-4b94-da1c-7867d976ef82"
      },
      "outputs": [
        {
          "data": {
            "image/png": "[encoded data removed]",
            "text/plain": [
              "<PIL.Image.Image image mode=L size=128x128 at 0x7F5B5B795C50>"
            ]
          },
          "execution_count": 329,
          "metadata": {},
          "output_type": "execute_result"
        }
      ],
      "source": [
        "test_pred = kiunet_reconstructed.predict(x_test[0][tf.newaxis, ...])\n",
        "test_pred = np.reshape(test_pred,(128,128,1,2))\n",
        "y_classes = test_pred.argmax(axis=-1)\n",
        "# y_classes = np.reshape(y_classes,(128,128,1))\n",
        "b=tf.keras.utils.array_to_img(y_classes)\n",
        "b"
      ]
    },
    {
      "cell_type": "code",
      "execution_count": null,
      "metadata": {
        "colab": {
          "base_uri": "https://localhost:8080/"
        },
        "id": "n8lC8qG3JCGr",
        "outputId": "0878079b-37ef-4592-ac29-59dcd858781d"
      },
      "outputs": [
        {
          "name": "stdout",
          "output_type": "stream",
          "text": [
            "0.64796066\n",
            "tf.Tensor(0.7180939, shape=(), dtype=float32)\n"
          ]
        }
      ],
      "source": [
        "max_iou = 0\n",
        "max_f1 = 0\n",
        "m1 = tf.keras.metrics.MeanIoU(num_classes=2)\n",
        "m2 = tfa.metrics.F1Score(num_classes=2)\n",
        "for i in range(20):\n",
        "  test_pred = kiunet_reconstructed.predict(x_test[i][tf.newaxis, ...])\n",
        "  test_pred = np.reshape(test_pred,(128,128,1,2))\n",
        "  y_classes = test_pred.argmax(axis=-1)\n",
        "  y_classes = tf.cast(y_classes, tf.float32)\n",
        "  m1.update_state(y_classes, y_test_binary[i])\n",
        "  curr_m = m1.result().numpy()\n",
        "  curr_f1 = m2.result().numpy()\n",
        "  if curr_m > max_iou:\n",
        "    max_iou = curr_m\n",
        "  curr_f1 = f1_metric(y_classes, y_test_binary[i])\n",
        "  if curr_f1 > max_f1:\n",
        "    max_f1 = curr_f1\n",
        "print(max_iou)\n",
        "print(max_f1)"
      ]
    },
    {
      "cell_type": "code",
      "execution_count": null,
      "metadata": {
        "colab": {
          "base_uri": "https://localhost:8080/"
        },
        "id": "ChBG8jgihJZ0",
        "outputId": "8be17dda-a849-4ba9-c967-9d5954a30528"
      },
      "outputs": [
        {
          "name": "stdout",
          "output_type": "stream",
          "text": [
            "0.5569787\n",
            "tf.Tensor(0.6955127, shape=(), dtype=float32)\n"
          ]
        }
      ],
      "source": [
        "max = 0\n",
        "max_iou = 0\n",
        "max_f1 = 0\n",
        "m1 = tf.keras.metrics.MeanIoU(num_classes=2)\n",
        "for i in range(20):\n",
        "  test_pred = unet_reconstructed.predict(x_test[i][tf.newaxis, ...])\n",
        "  test_pred = np.reshape(test_pred,(128,128,1,2))\n",
        "  y_classes = test_pred.argmax(axis=-1)\n",
        "  y_classes = tf.cast(y_classes, tf.float32)\n",
        "  m1.update_state(y_classes, y_test_binary[i])\n",
        "  curr_m = m1.result().numpy()\n",
        "  if curr_m > max_iou:\n",
        "    max_iou = curr_m\n",
        "  curr_f1 = f1_metric(y_classes, y_test_binary[i])\n",
        "  if curr_f1 > max_f1:\n",
        "    max_f1 = curr_f1\n",
        "print(max_iou)\n",
        "print(max_f1)"
      ]
    },
    {
      "cell_type": "code",
      "execution_count": null,
      "metadata": {
        "colab": {
          "base_uri": "https://localhost:8080/",
          "height": 17
        },
        "id": "vjuZw1j-yJCv",
        "outputId": "e6a9083e-7927-462c-e892-72d49ae3d0ee"
      },
      "outputs": [
        {
          "data": {
            "application/javascript": "\n    async function download(id, filename, size) {\n      if (!google.colab.kernel.accessAllowed) {\n        return;\n      }\n      const div = document.createElement('div');\n      const label = document.createElement('label');\n      label.textContent = `Downloading \"${filename}\": `;\n      div.appendChild(label);\n      const progress = document.createElement('progress');\n      progress.max = size;\n      div.appendChild(progress);\n      document.body.appendChild(div);\n\n      const buffers = [];\n      let downloaded = 0;\n\n      const channel = await google.colab.kernel.comms.open(id);\n      // Send a message to notify the kernel that we're ready.\n      channel.send({})\n\n      for await (const message of channel.messages) {\n        // Send a message to notify the kernel that we're ready.\n        channel.send({})\n        if (message.buffers) {\n          for (const buffer of message.buffers) {\n            buffers.push(buffer);\n            downloaded += buffer.byteLength;\n            progress.value = downloaded;\n          }\n        }\n      }\n      const blob = new Blob(buffers, {type: 'application/binary'});\n      const a = document.createElement('a');\n      a.href = window.URL.createObjectURL(blob);\n      a.download = filename;\n      div.appendChild(a);\n      a.click();\n      div.remove();\n    }\n  ",
            "text/plain": [
              "<IPython.core.display.Javascript object>"
            ]
          },
          "metadata": {},
          "output_type": "display_data"
        },
        {
          "data": {
            "application/javascript": "download(\"download_3026a660-9415-4442-95fc-cf53a23bad41\", \"kiUnet_model2_3d_a.h5\", 2755584)",
            "text/plain": [
              "<IPython.core.display.Javascript object>"
            ]
          },
          "metadata": {},
          "output_type": "display_data"
        }
      ],
      "source": [
        "from google.colab import files\n",
        "files.download(\"kiUnet_model2_3d_a.h5\")"
      ]
    }
  ],
  "metadata": {
    "accelerator": "GPU",
    "colab": {
      "collapsed_sections": [],
      "name": "CISC867_Project_ver.2.0.ipynb",
      "provenance": []
    },
    "interpreter": {
      "hash": "c1ed6d6705e859a7f012a2ac41d411a9addf463f1d7f40cb4f0181f989bc4467"
    },
    "kernelspec": {
      "display_name": "Python 3",
      "language": "python",
      "name": "python3"
    },
    "language_info": {
      "codemirror_mode": {
        "name": "ipython",
        "version": 3
      },
      "file_extension": ".py",
      "mimetype": "text/x-python",
      "name": "python",
      "nbconvert_exporter": "python",
      "pygments_lexer": "ipython3",
      "version": "3.9.7"
    }
  },
  "nbformat": 4,
  "nbformat_minor": 0
}
